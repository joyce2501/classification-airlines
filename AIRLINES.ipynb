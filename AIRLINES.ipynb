{
 "cells": [
  {
   "cell_type": "code",
   "execution_count": 1,
   "metadata": {},
   "outputs": [],
   "source": [
    "import warnings\n",
    "warnings.filterwarnings('ignore')\n",
    "import pandas as pd\n",
    "import numpy as np\n",
    "import seaborn as sns\n",
    "import matplotlib.pyplot as plt"
   ]
  },
  {
   "cell_type": "code",
   "execution_count": 2,
   "metadata": {},
   "outputs": [
    {
     "name": "stdout",
     "output_type": "stream",
     "text": [
      "Requirement already satisfied: xgboost in c:\\users\\17144\\anaconda3\\lib\\site-packages (1.5.1)\n",
      "Requirement already satisfied: numpy in c:\\users\\17144\\anaconda3\\lib\\site-packages (from xgboost) (1.22.3)\n",
      "Requirement already satisfied: scipy in c:\\users\\17144\\anaconda3\\lib\\site-packages (from xgboost) (1.5.2)\n"
     ]
    }
   ],
   "source": [
    "import sys\n",
    "!{sys.executable} -m pip install xgboost"
   ]
  },
  {
   "cell_type": "markdown",
   "metadata": {},
   "source": [
    "# Context\n",
    "This data given by an airline organization. The actual name of the company is not given due to various purposes that's why the name Invistico airlines.\n",
    "\n",
    "The dataset consists of the details of customers who have already flown with them. The feedback of the customers on various context and their flight data has been consolidated.\n",
    "\n",
    "The main purpose of this dataset is to predict whether a future customer would be satisfied with their service given the details of the other parameters values.\n",
    "\n",
    "Also the airlines need to know on which aspect of the services offered by them have to be emphasized more to generate more satisfied customers."
   ]
  },
  {
   "cell_type": "markdown",
   "metadata": {},
   "source": [
    "### Overall strategy\n",
    "1/ Load Dataset\n",
    "\n",
    "2/ EDA\n",
    "\n",
    "3/ Data cleaning\n",
    "\n",
    "4/ Modeling\n",
    "- Logistic Regression: 75%\n",
    "- Decision tree (max_dept = 3) : 76%\n",
    "- Random Forest (n_estimators = 100): 92%\n",
    "- XGBoost: 91%\n",
    "- SVC: 76%\n",
    "\n",
    "5/ Tuning Parameters"
   ]
  },
  {
   "cell_type": "markdown",
   "metadata": {},
   "source": [
    "# LOAD DATASET"
   ]
  },
  {
   "cell_type": "code",
   "execution_count": 3,
   "metadata": {},
   "outputs": [],
   "source": [
    "data = pd.read_csv(\"C:\\\\Users\\\\17144\\\\Documents\\\\DS\\\\SAURABH\\\\projects\\\\airlines\\\\Invistico_Airline.csv\")"
   ]
  },
  {
   "cell_type": "code",
   "execution_count": 4,
   "metadata": {},
   "outputs": [
    {
     "data": {
      "text/html": [
       "<div>\n",
       "<style scoped>\n",
       "    .dataframe tbody tr th:only-of-type {\n",
       "        vertical-align: middle;\n",
       "    }\n",
       "\n",
       "    .dataframe tbody tr th {\n",
       "        vertical-align: top;\n",
       "    }\n",
       "\n",
       "    .dataframe thead th {\n",
       "        text-align: right;\n",
       "    }\n",
       "</style>\n",
       "<table border=\"1\" class=\"dataframe\">\n",
       "  <thead>\n",
       "    <tr style=\"text-align: right;\">\n",
       "      <th></th>\n",
       "      <th>satisfaction</th>\n",
       "      <th>Gender</th>\n",
       "      <th>Customer Type</th>\n",
       "      <th>Age</th>\n",
       "      <th>Type of Travel</th>\n",
       "      <th>Class</th>\n",
       "      <th>Flight Distance</th>\n",
       "      <th>Seat comfort</th>\n",
       "      <th>Departure/Arrival time convenient</th>\n",
       "      <th>Food and drink</th>\n",
       "      <th>...</th>\n",
       "      <th>Online support</th>\n",
       "      <th>Ease of Online booking</th>\n",
       "      <th>On-board service</th>\n",
       "      <th>Leg room service</th>\n",
       "      <th>Baggage handling</th>\n",
       "      <th>Checkin service</th>\n",
       "      <th>Cleanliness</th>\n",
       "      <th>Online boarding</th>\n",
       "      <th>Departure Delay in Minutes</th>\n",
       "      <th>Arrival Delay in Minutes</th>\n",
       "    </tr>\n",
       "  </thead>\n",
       "  <tbody>\n",
       "    <tr>\n",
       "      <th>0</th>\n",
       "      <td>satisfied</td>\n",
       "      <td>Female</td>\n",
       "      <td>Loyal Customer</td>\n",
       "      <td>65</td>\n",
       "      <td>Personal Travel</td>\n",
       "      <td>Eco</td>\n",
       "      <td>265</td>\n",
       "      <td>0</td>\n",
       "      <td>0</td>\n",
       "      <td>0</td>\n",
       "      <td>...</td>\n",
       "      <td>2</td>\n",
       "      <td>3</td>\n",
       "      <td>3</td>\n",
       "      <td>0</td>\n",
       "      <td>3</td>\n",
       "      <td>5</td>\n",
       "      <td>3</td>\n",
       "      <td>2</td>\n",
       "      <td>0</td>\n",
       "      <td>0.0</td>\n",
       "    </tr>\n",
       "    <tr>\n",
       "      <th>1</th>\n",
       "      <td>satisfied</td>\n",
       "      <td>Male</td>\n",
       "      <td>Loyal Customer</td>\n",
       "      <td>47</td>\n",
       "      <td>Personal Travel</td>\n",
       "      <td>Business</td>\n",
       "      <td>2464</td>\n",
       "      <td>0</td>\n",
       "      <td>0</td>\n",
       "      <td>0</td>\n",
       "      <td>...</td>\n",
       "      <td>2</td>\n",
       "      <td>3</td>\n",
       "      <td>4</td>\n",
       "      <td>4</td>\n",
       "      <td>4</td>\n",
       "      <td>2</td>\n",
       "      <td>3</td>\n",
       "      <td>2</td>\n",
       "      <td>310</td>\n",
       "      <td>305.0</td>\n",
       "    </tr>\n",
       "    <tr>\n",
       "      <th>2</th>\n",
       "      <td>satisfied</td>\n",
       "      <td>Female</td>\n",
       "      <td>Loyal Customer</td>\n",
       "      <td>15</td>\n",
       "      <td>Personal Travel</td>\n",
       "      <td>Eco</td>\n",
       "      <td>2138</td>\n",
       "      <td>0</td>\n",
       "      <td>0</td>\n",
       "      <td>0</td>\n",
       "      <td>...</td>\n",
       "      <td>2</td>\n",
       "      <td>2</td>\n",
       "      <td>3</td>\n",
       "      <td>3</td>\n",
       "      <td>4</td>\n",
       "      <td>4</td>\n",
       "      <td>4</td>\n",
       "      <td>2</td>\n",
       "      <td>0</td>\n",
       "      <td>0.0</td>\n",
       "    </tr>\n",
       "    <tr>\n",
       "      <th>3</th>\n",
       "      <td>satisfied</td>\n",
       "      <td>Female</td>\n",
       "      <td>Loyal Customer</td>\n",
       "      <td>60</td>\n",
       "      <td>Personal Travel</td>\n",
       "      <td>Eco</td>\n",
       "      <td>623</td>\n",
       "      <td>0</td>\n",
       "      <td>0</td>\n",
       "      <td>0</td>\n",
       "      <td>...</td>\n",
       "      <td>3</td>\n",
       "      <td>1</td>\n",
       "      <td>1</td>\n",
       "      <td>0</td>\n",
       "      <td>1</td>\n",
       "      <td>4</td>\n",
       "      <td>1</td>\n",
       "      <td>3</td>\n",
       "      <td>0</td>\n",
       "      <td>0.0</td>\n",
       "    </tr>\n",
       "    <tr>\n",
       "      <th>4</th>\n",
       "      <td>satisfied</td>\n",
       "      <td>Female</td>\n",
       "      <td>Loyal Customer</td>\n",
       "      <td>70</td>\n",
       "      <td>Personal Travel</td>\n",
       "      <td>Eco</td>\n",
       "      <td>354</td>\n",
       "      <td>0</td>\n",
       "      <td>0</td>\n",
       "      <td>0</td>\n",
       "      <td>...</td>\n",
       "      <td>4</td>\n",
       "      <td>2</td>\n",
       "      <td>2</td>\n",
       "      <td>0</td>\n",
       "      <td>2</td>\n",
       "      <td>4</td>\n",
       "      <td>2</td>\n",
       "      <td>5</td>\n",
       "      <td>0</td>\n",
       "      <td>0.0</td>\n",
       "    </tr>\n",
       "  </tbody>\n",
       "</table>\n",
       "<p>5 rows × 23 columns</p>\n",
       "</div>"
      ],
      "text/plain": [
       "  satisfaction  Gender   Customer Type  Age   Type of Travel     Class  \\\n",
       "0    satisfied  Female  Loyal Customer   65  Personal Travel       Eco   \n",
       "1    satisfied    Male  Loyal Customer   47  Personal Travel  Business   \n",
       "2    satisfied  Female  Loyal Customer   15  Personal Travel       Eco   \n",
       "3    satisfied  Female  Loyal Customer   60  Personal Travel       Eco   \n",
       "4    satisfied  Female  Loyal Customer   70  Personal Travel       Eco   \n",
       "\n",
       "   Flight Distance  Seat comfort  Departure/Arrival time convenient  \\\n",
       "0              265             0                                  0   \n",
       "1             2464             0                                  0   \n",
       "2             2138             0                                  0   \n",
       "3              623             0                                  0   \n",
       "4              354             0                                  0   \n",
       "\n",
       "   Food and drink  ...  Online support  Ease of Online booking  \\\n",
       "0               0  ...               2                       3   \n",
       "1               0  ...               2                       3   \n",
       "2               0  ...               2                       2   \n",
       "3               0  ...               3                       1   \n",
       "4               0  ...               4                       2   \n",
       "\n",
       "   On-board service  Leg room service  Baggage handling  Checkin service  \\\n",
       "0                 3                 0                 3                5   \n",
       "1                 4                 4                 4                2   \n",
       "2                 3                 3                 4                4   \n",
       "3                 1                 0                 1                4   \n",
       "4                 2                 0                 2                4   \n",
       "\n",
       "   Cleanliness  Online boarding  Departure Delay in Minutes  \\\n",
       "0            3                2                           0   \n",
       "1            3                2                         310   \n",
       "2            4                2                           0   \n",
       "3            1                3                           0   \n",
       "4            2                5                           0   \n",
       "\n",
       "   Arrival Delay in Minutes  \n",
       "0                       0.0  \n",
       "1                     305.0  \n",
       "2                       0.0  \n",
       "3                       0.0  \n",
       "4                       0.0  \n",
       "\n",
       "[5 rows x 23 columns]"
      ]
     },
     "execution_count": 4,
     "metadata": {},
     "output_type": "execute_result"
    }
   ],
   "source": [
    "data.head()"
   ]
  },
  {
   "cell_type": "code",
   "execution_count": 5,
   "metadata": {},
   "outputs": [],
   "source": [
    "df = pd.DataFrame(data= data)"
   ]
  },
  {
   "cell_type": "markdown",
   "metadata": {},
   "source": [
    "# EDA"
   ]
  },
  {
   "cell_type": "code",
   "execution_count": 6,
   "metadata": {},
   "outputs": [
    {
     "data": {
      "text/plain": [
       "(129880, 23)"
      ]
     },
     "execution_count": 6,
     "metadata": {},
     "output_type": "execute_result"
    }
   ],
   "source": [
    "df.shape"
   ]
  },
  {
   "cell_type": "code",
   "execution_count": 7,
   "metadata": {},
   "outputs": [
    {
     "data": {
      "text/plain": [
       "Index(['satisfaction', 'Gender', 'Customer Type', 'Age', 'Type of Travel',\n",
       "       'Class', 'Flight Distance', 'Seat comfort',\n",
       "       'Departure/Arrival time convenient', 'Food and drink', 'Gate location',\n",
       "       'Inflight wifi service', 'Inflight entertainment', 'Online support',\n",
       "       'Ease of Online booking', 'On-board service', 'Leg room service',\n",
       "       'Baggage handling', 'Checkin service', 'Cleanliness', 'Online boarding',\n",
       "       'Departure Delay in Minutes', 'Arrival Delay in Minutes'],\n",
       "      dtype='object')"
      ]
     },
     "execution_count": 7,
     "metadata": {},
     "output_type": "execute_result"
    }
   ],
   "source": [
    "df.columns"
   ]
  },
  {
   "cell_type": "code",
   "execution_count": 8,
   "metadata": {},
   "outputs": [
    {
     "name": "stdout",
     "output_type": "stream",
     "text": [
      "<class 'pandas.core.frame.DataFrame'>\n",
      "RangeIndex: 129880 entries, 0 to 129879\n",
      "Data columns (total 23 columns):\n",
      " #   Column                             Non-Null Count   Dtype  \n",
      "---  ------                             --------------   -----  \n",
      " 0   satisfaction                       129880 non-null  object \n",
      " 1   Gender                             129880 non-null  object \n",
      " 2   Customer Type                      129880 non-null  object \n",
      " 3   Age                                129880 non-null  int64  \n",
      " 4   Type of Travel                     129880 non-null  object \n",
      " 5   Class                              129880 non-null  object \n",
      " 6   Flight Distance                    129880 non-null  int64  \n",
      " 7   Seat comfort                       129880 non-null  int64  \n",
      " 8   Departure/Arrival time convenient  129880 non-null  int64  \n",
      " 9   Food and drink                     129880 non-null  int64  \n",
      " 10  Gate location                      129880 non-null  int64  \n",
      " 11  Inflight wifi service              129880 non-null  int64  \n",
      " 12  Inflight entertainment             129880 non-null  int64  \n",
      " 13  Online support                     129880 non-null  int64  \n",
      " 14  Ease of Online booking             129880 non-null  int64  \n",
      " 15  On-board service                   129880 non-null  int64  \n",
      " 16  Leg room service                   129880 non-null  int64  \n",
      " 17  Baggage handling                   129880 non-null  int64  \n",
      " 18  Checkin service                    129880 non-null  int64  \n",
      " 19  Cleanliness                        129880 non-null  int64  \n",
      " 20  Online boarding                    129880 non-null  int64  \n",
      " 21  Departure Delay in Minutes         129880 non-null  int64  \n",
      " 22  Arrival Delay in Minutes           129487 non-null  float64\n",
      "dtypes: float64(1), int64(17), object(5)\n",
      "memory usage: 22.8+ MB\n"
     ]
    }
   ],
   "source": [
    "df.info()"
   ]
  },
  {
   "cell_type": "code",
   "execution_count": 9,
   "metadata": {},
   "outputs": [
    {
     "data": {
      "text/plain": [
       "Arrival Delay in Minutes    393\n",
       "dtype: int64"
      ]
     },
     "execution_count": 9,
     "metadata": {},
     "output_type": "execute_result"
    }
   ],
   "source": [
    "df.isnull().sum()[df.isnull().sum()>0]"
   ]
  },
  {
   "cell_type": "code",
   "execution_count": 10,
   "metadata": {},
   "outputs": [
    {
     "data": {
      "text/plain": [
       "Arrival Delay in Minutes    0.302587\n",
       "dtype: float64"
      ]
     },
     "execution_count": 10,
     "metadata": {},
     "output_type": "execute_result"
    }
   ],
   "source": [
    "df.isnull().sum()[df.isnull().sum() >0]/len(df) * 100"
   ]
  },
  {
   "cell_type": "code",
   "execution_count": 11,
   "metadata": {},
   "outputs": [],
   "source": [
    "# treat null in Arrival Delay in Minutes column\n",
    "df['Arrival Delay in Minutes'].fillna(df['Arrival Delay in Minutes'].mean(), inplace=True)"
   ]
  },
  {
   "cell_type": "code",
   "execution_count": 12,
   "metadata": {},
   "outputs": [
    {
     "data": {
      "text/plain": [
       "False"
      ]
     },
     "execution_count": 12,
     "metadata": {},
     "output_type": "execute_result"
    }
   ],
   "source": [
    "df['Arrival Delay in Minutes'].isnull().any()"
   ]
  },
  {
   "cell_type": "code",
   "execution_count": 13,
   "metadata": {},
   "outputs": [
    {
     "data": {
      "text/plain": [
       "satisfied       0.547328\n",
       "dissatisfied    0.452672\n",
       "Name: satisfaction, dtype: float64"
      ]
     },
     "execution_count": 13,
     "metadata": {},
     "output_type": "execute_result"
    }
   ],
   "source": [
    "#check for imbalance data\n",
    "df['satisfaction'].value_counts(normalize= True)"
   ]
  },
  {
   "cell_type": "code",
   "execution_count": 14,
   "metadata": {},
   "outputs": [
    {
     "data": {
      "text/plain": [
       "<AxesSubplot:xlabel='satisfaction', ylabel='count'>"
      ]
     },
     "execution_count": 14,
     "metadata": {},
     "output_type": "execute_result"
    },
    {
     "data": {
      "image/png": "[encoded data removed]",
      "text/plain": [
       "<Figure size 360x360 with 1 Axes>"
      ]
     },
     "metadata": {
      "needs_background": "light"
     },
     "output_type": "display_data"
    }
   ],
   "source": [
    "fig= plt.figure(figsize= (5,5))\n",
    "sns.set_style('whitegrid')\n",
    "sns.countplot(x=df['satisfaction'])"
   ]
  },
  {
   "cell_type": "markdown",
   "metadata": {},
   "source": [
    "Handling object columns: Customer Type, Type of Travel, Class, Gender, satisfaction"
   ]
  },
  {
   "cell_type": "code",
   "execution_count": 15,
   "metadata": {},
   "outputs": [
    {
     "data": {
      "text/plain": [
       "satisfaction      object\n",
       "Gender            object\n",
       "Customer Type     object\n",
       "Type of Travel    object\n",
       "Class             object\n",
       "dtype: object"
      ]
     },
     "execution_count": 15,
     "metadata": {},
     "output_type": "execute_result"
    }
   ],
   "source": [
    "df.dtypes[df.dtypes=='object']"
   ]
  },
  {
   "cell_type": "code",
   "execution_count": 16,
   "metadata": {},
   "outputs": [
    {
     "data": {
      "text/plain": [
       "5"
      ]
     },
     "execution_count": 16,
     "metadata": {},
     "output_type": "execute_result"
    }
   ],
   "source": [
    "len(df.dtypes[df.dtypes=='object'])"
   ]
  },
  {
   "cell_type": "code",
   "execution_count": 17,
   "metadata": {},
   "outputs": [
    {
     "data": {
      "text/plain": [
       "Loyal Customer       106100\n",
       "disloyal Customer     23780\n",
       "Name: Customer Type, dtype: int64"
      ]
     },
     "execution_count": 17,
     "metadata": {},
     "output_type": "execute_result"
    }
   ],
   "source": [
    "df['Customer Type'].value_counts()"
   ]
  },
  {
   "cell_type": "code",
   "execution_count": 18,
   "metadata": {},
   "outputs": [
    {
     "data": {
      "text/plain": [
       "Business travel    89693\n",
       "Personal Travel    40187\n",
       "Name: Type of Travel, dtype: int64"
      ]
     },
     "execution_count": 18,
     "metadata": {},
     "output_type": "execute_result"
    }
   ],
   "source": [
    "df['Type of Travel'].value_counts()"
   ]
  },
  {
   "cell_type": "code",
   "execution_count": 19,
   "metadata": {},
   "outputs": [
    {
     "data": {
      "text/plain": [
       "Business    62160\n",
       "Eco         58309\n",
       "Eco Plus     9411\n",
       "Name: Class, dtype: int64"
      ]
     },
     "execution_count": 19,
     "metadata": {},
     "output_type": "execute_result"
    }
   ],
   "source": [
    "df['Class'].value_counts()"
   ]
  },
  {
   "cell_type": "code",
   "execution_count": 20,
   "metadata": {},
   "outputs": [
    {
     "data": {
      "text/plain": [
       "Female    65899\n",
       "Male      63981\n",
       "Name: Gender, dtype: int64"
      ]
     },
     "execution_count": 20,
     "metadata": {},
     "output_type": "execute_result"
    }
   ],
   "source": [
    "df['Gender'].value_counts()"
   ]
  },
  {
   "cell_type": "code",
   "execution_count": 21,
   "metadata": {},
   "outputs": [
    {
     "data": {
      "text/plain": [
       "satisfied       71087\n",
       "dissatisfied    58793\n",
       "Name: satisfaction, dtype: int64"
      ]
     },
     "execution_count": 21,
     "metadata": {},
     "output_type": "execute_result"
    }
   ],
   "source": [
    "df['satisfaction'].value_counts()"
   ]
  },
  {
   "cell_type": "markdown",
   "metadata": {},
   "source": [
    "Preprocessing data types by sklearn"
   ]
  },
  {
   "cell_type": "code",
   "execution_count": 22,
   "metadata": {},
   "outputs": [],
   "source": [
    "def object_cols(df):\n",
    "    return list(df.select_dtypes(include= 'object').columns)\n",
    "def numerical_cols(df):\n",
    "    return list(df.select_dtypes(exclude='object').columns)"
   ]
  },
  {
   "cell_type": "code",
   "execution_count": 23,
   "metadata": {},
   "outputs": [
    {
     "data": {
      "text/plain": [
       "['satisfaction', 'Gender', 'Customer Type', 'Type of Travel', 'Class']"
      ]
     },
     "execution_count": 23,
     "metadata": {},
     "output_type": "execute_result"
    }
   ],
   "source": [
    "obj_col= object_cols(df)\n",
    "obj_col"
   ]
  },
  {
   "cell_type": "code",
   "execution_count": 24,
   "metadata": {},
   "outputs": [
    {
     "data": {
      "text/plain": [
       "['Age',\n",
       " 'Flight Distance',\n",
       " 'Seat comfort',\n",
       " 'Departure/Arrival time convenient',\n",
       " 'Food and drink',\n",
       " 'Gate location',\n",
       " 'Inflight wifi service',\n",
       " 'Inflight entertainment',\n",
       " 'Online support',\n",
       " 'Ease of Online booking',\n",
       " 'On-board service',\n",
       " 'Leg room service',\n",
       " 'Baggage handling',\n",
       " 'Checkin service',\n",
       " 'Cleanliness',\n",
       " 'Online boarding',\n",
       " 'Departure Delay in Minutes',\n",
       " 'Arrival Delay in Minutes']"
      ]
     },
     "execution_count": 24,
     "metadata": {},
     "output_type": "execute_result"
    }
   ],
   "source": [
    "num_col = numerical_cols(df)\n",
    "num_col"
   ]
  },
  {
   "cell_type": "markdown",
   "metadata": {},
   "source": [
    "### Normalization and Label Encoding\n",
    "There are two different lists. One is object list, need to be encoded by using LabelEncoder.\n",
    "another one is numerical list, need to be normalize by using Normalize method"
   ]
  },
  {
   "cell_type": "code",
   "execution_count": 25,
   "metadata": {},
   "outputs": [],
   "source": [
    "from sklearn.preprocessing import LabelEncoder\n",
    "from sklearn.preprocessing import Normalizer"
   ]
  },
  {
   "cell_type": "code",
   "execution_count": 26,
   "metadata": {},
   "outputs": [],
   "source": [
    "label_encode = LabelEncoder()\n",
    "norm = Normalizer()"
   ]
  },
  {
   "cell_type": "code",
   "execution_count": 27,
   "metadata": {},
   "outputs": [],
   "source": [
    "for col in obj_col:\n",
    "    df[col] = label_encode.fit_transform(df[col])"
   ]
  },
  {
   "cell_type": "code",
   "execution_count": 28,
   "metadata": {},
   "outputs": [
    {
     "data": {
      "text/plain": [
       "array([1, 0, 2])"
      ]
     },
     "execution_count": 28,
     "metadata": {},
     "output_type": "execute_result"
    }
   ],
   "source": [
    "df['Class'].unique()"
   ]
  },
  {
   "cell_type": "code",
   "execution_count": 29,
   "metadata": {},
   "outputs": [],
   "source": [
    "df[num_col]= norm.fit_transform(df[num_col])"
   ]
  },
  {
   "cell_type": "code",
   "execution_count": 30,
   "metadata": {},
   "outputs": [
    {
     "data": {
      "text/html": [
       "<div>\n",
       "<style scoped>\n",
       "    .dataframe tbody tr th:only-of-type {\n",
       "        vertical-align: middle;\n",
       "    }\n",
       "\n",
       "    .dataframe tbody tr th {\n",
       "        vertical-align: top;\n",
       "    }\n",
       "\n",
       "    .dataframe thead th {\n",
       "        text-align: right;\n",
       "    }\n",
       "</style>\n",
       "<table border=\"1\" class=\"dataframe\">\n",
       "  <thead>\n",
       "    <tr style=\"text-align: right;\">\n",
       "      <th></th>\n",
       "      <th>satisfaction</th>\n",
       "      <th>Gender</th>\n",
       "      <th>Customer Type</th>\n",
       "      <th>Age</th>\n",
       "      <th>Type of Travel</th>\n",
       "      <th>Class</th>\n",
       "      <th>Flight Distance</th>\n",
       "      <th>Seat comfort</th>\n",
       "      <th>Departure/Arrival time convenient</th>\n",
       "      <th>Food and drink</th>\n",
       "      <th>...</th>\n",
       "      <th>Online support</th>\n",
       "      <th>Ease of Online booking</th>\n",
       "      <th>On-board service</th>\n",
       "      <th>Leg room service</th>\n",
       "      <th>Baggage handling</th>\n",
       "      <th>Checkin service</th>\n",
       "      <th>Cleanliness</th>\n",
       "      <th>Online boarding</th>\n",
       "      <th>Departure Delay in Minutes</th>\n",
       "      <th>Arrival Delay in Minutes</th>\n",
       "    </tr>\n",
       "  </thead>\n",
       "  <tbody>\n",
       "    <tr>\n",
       "      <th>0</th>\n",
       "      <td>1</td>\n",
       "      <td>0</td>\n",
       "      <td>0</td>\n",
       "      <td>0.238073</td>\n",
       "      <td>1</td>\n",
       "      <td>1</td>\n",
       "      <td>0.970605</td>\n",
       "      <td>0.0</td>\n",
       "      <td>0.0</td>\n",
       "      <td>0.0</td>\n",
       "      <td>...</td>\n",
       "      <td>0.007325</td>\n",
       "      <td>0.010988</td>\n",
       "      <td>0.010988</td>\n",
       "      <td>0.000000</td>\n",
       "      <td>0.010988</td>\n",
       "      <td>0.018313</td>\n",
       "      <td>0.010988</td>\n",
       "      <td>0.007325</td>\n",
       "      <td>0.000000</td>\n",
       "      <td>0.000000</td>\n",
       "    </tr>\n",
       "    <tr>\n",
       "      <th>1</th>\n",
       "      <td>1</td>\n",
       "      <td>1</td>\n",
       "      <td>0</td>\n",
       "      <td>0.018781</td>\n",
       "      <td>1</td>\n",
       "      <td>0</td>\n",
       "      <td>0.984599</td>\n",
       "      <td>0.0</td>\n",
       "      <td>0.0</td>\n",
       "      <td>0.0</td>\n",
       "      <td>...</td>\n",
       "      <td>0.000799</td>\n",
       "      <td>0.001199</td>\n",
       "      <td>0.001598</td>\n",
       "      <td>0.001598</td>\n",
       "      <td>0.001598</td>\n",
       "      <td>0.000799</td>\n",
       "      <td>0.001199</td>\n",
       "      <td>0.000799</td>\n",
       "      <td>0.123874</td>\n",
       "      <td>0.121876</td>\n",
       "    </tr>\n",
       "  </tbody>\n",
       "</table>\n",
       "<p>2 rows × 23 columns</p>\n",
       "</div>"
      ],
      "text/plain": [
       "   satisfaction  Gender  Customer Type       Age  Type of Travel  Class  \\\n",
       "0             1       0              0  0.238073               1      1   \n",
       "1             1       1              0  0.018781               1      0   \n",
       "\n",
       "   Flight Distance  Seat comfort  Departure/Arrival time convenient  \\\n",
       "0         0.970605           0.0                                0.0   \n",
       "1         0.984599           0.0                                0.0   \n",
       "\n",
       "   Food and drink  ...  Online support  Ease of Online booking  \\\n",
       "0             0.0  ...        0.007325                0.010988   \n",
       "1             0.0  ...        0.000799                0.001199   \n",
       "\n",
       "   On-board service  Leg room service  Baggage handling  Checkin service  \\\n",
       "0          0.010988          0.000000          0.010988         0.018313   \n",
       "1          0.001598          0.001598          0.001598         0.000799   \n",
       "\n",
       "   Cleanliness  Online boarding  Departure Delay in Minutes  \\\n",
       "0     0.010988         0.007325                    0.000000   \n",
       "1     0.001199         0.000799                    0.123874   \n",
       "\n",
       "   Arrival Delay in Minutes  \n",
       "0                  0.000000  \n",
       "1                  0.121876  \n",
       "\n",
       "[2 rows x 23 columns]"
      ]
     },
     "execution_count": 30,
     "metadata": {},
     "output_type": "execute_result"
    }
   ],
   "source": [
    "df.head(2)"
   ]
  },
  {
   "cell_type": "markdown",
   "metadata": {},
   "source": [
    "### OUTLIERS DETECTION"
   ]
  },
  {
   "cell_type": "code",
   "execution_count": 31,
   "metadata": {},
   "outputs": [
    {
     "ename": "ValueError",
     "evalue": "num must be 1 <= num <= 18, not 19",
     "output_type": "error",
     "traceback": [
      "\u001b[1;31m---------------------------------------------------------------------------\u001b[0m",
      "\u001b[1;31mValueError\u001b[0m                                Traceback (most recent call last)",
      "\u001b[1;32m<ipython-input-31-50ab79054100>\u001b[0m in \u001b[0;36m<module>\u001b[1;34m\u001b[0m\n\u001b[0;32m      5\u001b[0m \u001b[1;33m\u001b[0m\u001b[0m\n\u001b[0;32m      6\u001b[0m \u001b[1;32mfor\u001b[0m \u001b[0mi\u001b[0m\u001b[1;33m,\u001b[0m \u001b[0mcol\u001b[0m \u001b[1;32min\u001b[0m \u001b[0menumerate\u001b[0m\u001b[1;33m(\u001b[0m\u001b[0mnonbinary_columns\u001b[0m\u001b[1;33m)\u001b[0m\u001b[1;33m:\u001b[0m\u001b[1;33m\u001b[0m\u001b[1;33m\u001b[0m\u001b[0m\n\u001b[1;32m----> 7\u001b[1;33m     \u001b[0mplt\u001b[0m\u001b[1;33m.\u001b[0m\u001b[0msubplot\u001b[0m\u001b[1;33m(\u001b[0m\u001b[1;36m6\u001b[0m\u001b[1;33m,\u001b[0m\u001b[1;36m3\u001b[0m\u001b[1;33m,\u001b[0m \u001b[0mi\u001b[0m\u001b[1;33m+\u001b[0m\u001b[1;36m1\u001b[0m\u001b[1;33m)\u001b[0m\u001b[1;33m\u001b[0m\u001b[1;33m\u001b[0m\u001b[0m\n\u001b[0m\u001b[0;32m      8\u001b[0m     \u001b[0msns\u001b[0m\u001b[1;33m.\u001b[0m\u001b[0mboxplot\u001b[0m\u001b[1;33m(\u001b[0m\u001b[0mdata\u001b[0m\u001b[1;33m=\u001b[0m \u001b[0mdf_X\u001b[0m\u001b[1;33m[\u001b[0m\u001b[0mcol\u001b[0m\u001b[1;33m]\u001b[0m\u001b[1;33m,\u001b[0m \u001b[0mcolor\u001b[0m\u001b[1;33m=\u001b[0m\u001b[1;34m'green'\u001b[0m\u001b[1;33m)\u001b[0m\u001b[1;33m\u001b[0m\u001b[1;33m\u001b[0m\u001b[0m\n\u001b[0;32m      9\u001b[0m     \u001b[0mplt\u001b[0m\u001b[1;33m.\u001b[0m\u001b[0mtitle\u001b[0m\u001b[1;33m(\u001b[0m\u001b[0mcol\u001b[0m\u001b[1;33m)\u001b[0m\u001b[1;33m\u001b[0m\u001b[1;33m\u001b[0m\u001b[0m\n",
      "\u001b[1;32m~\\anaconda3\\lib\\site-packages\\matplotlib\\pyplot.py\u001b[0m in \u001b[0;36msubplot\u001b[1;34m(*args, **kwargs)\u001b[0m\n\u001b[0;32m   1140\u001b[0m \u001b[1;33m\u001b[0m\u001b[0m\n\u001b[0;32m   1141\u001b[0m     \u001b[0mfig\u001b[0m \u001b[1;33m=\u001b[0m \u001b[0mgcf\u001b[0m\u001b[1;33m(\u001b[0m\u001b[1;33m)\u001b[0m\u001b[1;33m\u001b[0m\u001b[1;33m\u001b[0m\u001b[0m\n\u001b[1;32m-> 1142\u001b[1;33m     \u001b[0max\u001b[0m \u001b[1;33m=\u001b[0m \u001b[0mfig\u001b[0m\u001b[1;33m.\u001b[0m\u001b[0madd_subplot\u001b[0m\u001b[1;33m(\u001b[0m\u001b[1;33m*\u001b[0m\u001b[0margs\u001b[0m\u001b[1;33m,\u001b[0m \u001b[1;33m**\u001b[0m\u001b[0mkwargs\u001b[0m\u001b[1;33m)\u001b[0m\u001b[1;33m\u001b[0m\u001b[1;33m\u001b[0m\u001b[0m\n\u001b[0m\u001b[0;32m   1143\u001b[0m     \u001b[0mbbox\u001b[0m \u001b[1;33m=\u001b[0m \u001b[0max\u001b[0m\u001b[1;33m.\u001b[0m\u001b[0mbbox\u001b[0m\u001b[1;33m\u001b[0m\u001b[1;33m\u001b[0m\u001b[0m\n\u001b[0;32m   1144\u001b[0m     \u001b[0maxes_to_delete\u001b[0m \u001b[1;33m=\u001b[0m \u001b[1;33m[\u001b[0m\u001b[1;33m]\u001b[0m\u001b[1;33m\u001b[0m\u001b[1;33m\u001b[0m\u001b[0m\n",
      "\u001b[1;32m~\\anaconda3\\lib\\site-packages\\matplotlib\\figure.py\u001b[0m in \u001b[0;36madd_subplot\u001b[1;34m(self, *args, **kwargs)\u001b[0m\n\u001b[0;32m   1400\u001b[0m                     \u001b[1;31m# more similar to add_axes.\u001b[0m\u001b[1;33m\u001b[0m\u001b[1;33m\u001b[0m\u001b[1;33m\u001b[0m\u001b[0m\n\u001b[0;32m   1401\u001b[0m                     \u001b[0mself\u001b[0m\u001b[1;33m.\u001b[0m\u001b[0m_axstack\u001b[0m\u001b[1;33m.\u001b[0m\u001b[0mremove\u001b[0m\u001b[1;33m(\u001b[0m\u001b[0max\u001b[0m\u001b[1;33m)\u001b[0m\u001b[1;33m\u001b[0m\u001b[1;33m\u001b[0m\u001b[0m\n\u001b[1;32m-> 1402\u001b[1;33m             \u001b[0max\u001b[0m \u001b[1;33m=\u001b[0m \u001b[0msubplot_class_factory\u001b[0m\u001b[1;33m(\u001b[0m\u001b[0mprojection_class\u001b[0m\u001b[1;33m)\u001b[0m\u001b[1;33m(\u001b[0m\u001b[0mself\u001b[0m\u001b[1;33m,\u001b[0m \u001b[1;33m*\u001b[0m\u001b[0margs\u001b[0m\u001b[1;33m,\u001b[0m \u001b[1;33m**\u001b[0m\u001b[0mkwargs\u001b[0m\u001b[1;33m)\u001b[0m\u001b[1;33m\u001b[0m\u001b[1;33m\u001b[0m\u001b[0m\n\u001b[0m\u001b[0;32m   1403\u001b[0m \u001b[1;33m\u001b[0m\u001b[0m\n\u001b[0;32m   1404\u001b[0m         \u001b[1;32mreturn\u001b[0m \u001b[0mself\u001b[0m\u001b[1;33m.\u001b[0m\u001b[0m_add_axes_internal\u001b[0m\u001b[1;33m(\u001b[0m\u001b[0mkey\u001b[0m\u001b[1;33m,\u001b[0m \u001b[0max\u001b[0m\u001b[1;33m)\u001b[0m\u001b[1;33m\u001b[0m\u001b[1;33m\u001b[0m\u001b[0m\n",
      "\u001b[1;32m~\\anaconda3\\lib\\site-packages\\matplotlib\\axes\\_subplots.py\u001b[0m in \u001b[0;36m__init__\u001b[1;34m(self, fig, *args, **kwargs)\u001b[0m\n\u001b[0;32m     37\u001b[0m \u001b[1;33m\u001b[0m\u001b[0m\n\u001b[0;32m     38\u001b[0m         \u001b[0mself\u001b[0m\u001b[1;33m.\u001b[0m\u001b[0mfigure\u001b[0m \u001b[1;33m=\u001b[0m \u001b[0mfig\u001b[0m\u001b[1;33m\u001b[0m\u001b[1;33m\u001b[0m\u001b[0m\n\u001b[1;32m---> 39\u001b[1;33m         \u001b[0mself\u001b[0m\u001b[1;33m.\u001b[0m\u001b[0m_subplotspec\u001b[0m \u001b[1;33m=\u001b[0m \u001b[0mSubplotSpec\u001b[0m\u001b[1;33m.\u001b[0m\u001b[0m_from_subplot_args\u001b[0m\u001b[1;33m(\u001b[0m\u001b[0mfig\u001b[0m\u001b[1;33m,\u001b[0m \u001b[0margs\u001b[0m\u001b[1;33m)\u001b[0m\u001b[1;33m\u001b[0m\u001b[1;33m\u001b[0m\u001b[0m\n\u001b[0m\u001b[0;32m     40\u001b[0m         \u001b[0mself\u001b[0m\u001b[1;33m.\u001b[0m\u001b[0mupdate_params\u001b[0m\u001b[1;33m(\u001b[0m\u001b[1;33m)\u001b[0m\u001b[1;33m\u001b[0m\u001b[1;33m\u001b[0m\u001b[0m\n\u001b[0;32m     41\u001b[0m         \u001b[1;31m# _axes_class is set in the subplot_class_factory\u001b[0m\u001b[1;33m\u001b[0m\u001b[1;33m\u001b[0m\u001b[1;33m\u001b[0m\u001b[0m\n",
      "\u001b[1;32m~\\anaconda3\\lib\\site-packages\\matplotlib\\gridspec.py\u001b[0m in \u001b[0;36m_from_subplot_args\u001b[1;34m(figure, args)\u001b[0m\n\u001b[0;32m    687\u001b[0m                     \u001b[0mnum\u001b[0m \u001b[1;33m=\u001b[0m \u001b[0mint\u001b[0m\u001b[1;33m(\u001b[0m\u001b[0mnum\u001b[0m\u001b[1;33m)\u001b[0m\u001b[1;33m\u001b[0m\u001b[1;33m\u001b[0m\u001b[0m\n\u001b[0;32m    688\u001b[0m                 \u001b[1;32mif\u001b[0m \u001b[0mnum\u001b[0m \u001b[1;33m<\u001b[0m \u001b[1;36m1\u001b[0m \u001b[1;32mor\u001b[0m \u001b[0mnum\u001b[0m \u001b[1;33m>\u001b[0m \u001b[0mrows\u001b[0m\u001b[1;33m*\u001b[0m\u001b[0mcols\u001b[0m\u001b[1;33m:\u001b[0m\u001b[1;33m\u001b[0m\u001b[1;33m\u001b[0m\u001b[0m\n\u001b[1;32m--> 689\u001b[1;33m                     raise ValueError(\n\u001b[0m\u001b[0;32m    690\u001b[0m                         f\"num must be 1 <= num <= {rows*cols}, not {num}\")\n\u001b[0;32m    691\u001b[0m                 \u001b[1;32mreturn\u001b[0m \u001b[0mgs\u001b[0m\u001b[1;33m[\u001b[0m\u001b[0mnum\u001b[0m \u001b[1;33m-\u001b[0m \u001b[1;36m1\u001b[0m\u001b[1;33m]\u001b[0m   \u001b[1;31m# -1 due to MATLAB indexing.\u001b[0m\u001b[1;33m\u001b[0m\u001b[1;33m\u001b[0m\u001b[0m\n",
      "\u001b[1;31mValueError\u001b[0m: num must be 1 <= num <= 18, not 19"
     ]
    },
    {
     "data": {
      "image/png": "[encoded data removed]",
      "text/plain": [
       "<Figure size 1440x1440 with 18 Axes>"
      ]
     },
     "metadata": {},
     "output_type": "display_data"
    }
   ],
   "source": [
    "df_X= df.drop('satisfaction', axis=1).copy()\n",
    "nonbinary_columns = [col for col in df_X.columns if len (df_X[col].unique())> 2]\n",
    "\n",
    "plt.figure(figsize= (20,20))\n",
    "\n",
    "for i, col in enumerate(nonbinary_columns):\n",
    "    plt.subplot(6,3, i+1)\n",
    "    sns.boxplot(data= df_X[col], color='green')\n",
    "    plt.title(col)\n",
    "plt.suptitle(\"Boxplots detecting Outliers\", size = 20)\n",
    "plt.show()"
   ]
  },
  {
   "cell_type": "markdown",
   "metadata": {},
   "source": [
    "There are 4 columns has outliers: Onboard_service, Checking_service, Departure Delay in Minutes, Arrival Delay in Mintes.\n",
    "I will explore these columns\n"
   ]
  },
  {
   "cell_type": "code",
   "execution_count": 32,
   "metadata": {},
   "outputs": [
    {
     "data": {
      "text/plain": [
       "array([0.01098798, 0.00159837, 0.00140313, ..., 0.00171532, 0.00121604,\n",
       "       0.0011587 ])"
      ]
     },
     "execution_count": 32,
     "metadata": {},
     "output_type": "execute_result"
    }
   ],
   "source": [
    "df['On-board service'].unique()"
   ]
  },
  {
   "cell_type": "code",
   "execution_count": 33,
   "metadata": {},
   "outputs": [
    {
     "data": {
      "text/plain": [
       "array([0.0183133 , 0.00079919, 0.00187084, ..., 0.00085766, 0.00081069,\n",
       "       0.00069522])"
      ]
     },
     "execution_count": 33,
     "metadata": {},
     "output_type": "execute_result"
    }
   ],
   "source": [
    "df['Checkin service'].unique()"
   ]
  },
  {
   "cell_type": "markdown",
   "metadata": {},
   "source": [
    "### Finding and Handling outliers with IQR"
   ]
  },
  {
   "cell_type": "markdown",
   "metadata": {},
   "source": [
    "mean of outlier columns before computattion"
   ]
  },
  {
   "cell_type": "code",
   "execution_count": 34,
   "metadata": {},
   "outputs": [
    {
     "data": {
      "text/plain": [
       "0.0031870649821758024"
      ]
     },
     "execution_count": 34,
     "metadata": {},
     "output_type": "execute_result"
    }
   ],
   "source": [
    "df['On-board service'].mean()"
   ]
  },
  {
   "cell_type": "code",
   "execution_count": 35,
   "metadata": {},
   "outputs": [
    {
     "data": {
      "text/plain": [
       "0.002981381282583678"
      ]
     },
     "execution_count": 35,
     "metadata": {},
     "output_type": "execute_result"
    }
   ],
   "source": [
    "df['Checkin service'].mean()"
   ]
  },
  {
   "cell_type": "code",
   "execution_count": 36,
   "metadata": {},
   "outputs": [
    {
     "data": {
      "text/plain": [
       "0.010244832482795016"
      ]
     },
     "execution_count": 36,
     "metadata": {},
     "output_type": "execute_result"
    }
   ],
   "source": [
    "df['Departure Delay in Minutes'].mean()"
   ]
  },
  {
   "cell_type": "code",
   "execution_count": 37,
   "metadata": {},
   "outputs": [
    {
     "data": {
      "text/plain": [
       "0.010639997250247245"
      ]
     },
     "execution_count": 37,
     "metadata": {},
     "output_type": "execute_result"
    }
   ],
   "source": [
    "df['Arrival Delay in Minutes'].mean()"
   ]
  },
  {
   "cell_type": "code",
   "execution_count": 38,
   "metadata": {},
   "outputs": [],
   "source": [
    "outlier_cols = ['On-board service','Checkin service', 'Departure Delay in Minutes', 'Arrival Delay in Minutes']"
   ]
  },
  {
   "cell_type": "code",
   "execution_count": 39,
   "metadata": {},
   "outputs": [],
   "source": [
    "Q1 = df[outlier_cols].quantile(0.05)\n",
    "Q3 = df[outlier_cols].quantile(0.95)\n",
    "IQR = Q3 - Q1\n",
    "\n",
    "df = df[~((df[outlier_cols] < (Q1-1.5*IQR)) | (df[outlier_cols]> (Q3 + 1.5*IQR))).any(axis=1)]"
   ]
  },
  {
   "cell_type": "markdown",
   "metadata": {},
   "source": [
    "checking mean of outlier columns after computation"
   ]
  },
  {
   "cell_type": "code",
   "execution_count": 40,
   "metadata": {},
   "outputs": [
    {
     "data": {
      "text/plain": [
       "0.002658169687114738"
      ]
     },
     "execution_count": 40,
     "metadata": {},
     "output_type": "execute_result"
    }
   ],
   "source": [
    "df['On-board service'].mean()"
   ]
  },
  {
   "cell_type": "code",
   "execution_count": 41,
   "metadata": {},
   "outputs": [
    {
     "data": {
      "text/plain": [
       "0.0025242884616224256"
      ]
     },
     "execution_count": 41,
     "metadata": {},
     "output_type": "execute_result"
    }
   ],
   "source": [
    "df['Checkin service'].mean()"
   ]
  },
  {
   "cell_type": "code",
   "execution_count": 42,
   "metadata": {},
   "outputs": [
    {
     "data": {
      "text/plain": [
       "0.00775118832028069"
      ]
     },
     "execution_count": 42,
     "metadata": {},
     "output_type": "execute_result"
    }
   ],
   "source": [
    "df['Departure Delay in Minutes'].mean()"
   ]
  },
  {
   "cell_type": "code",
   "execution_count": 43,
   "metadata": {},
   "outputs": [
    {
     "data": {
      "text/plain": [
       "0.007984136493965259"
      ]
     },
     "execution_count": 43,
     "metadata": {},
     "output_type": "execute_result"
    }
   ],
   "source": [
    "df['Arrival Delay in Minutes'].mean()"
   ]
  },
  {
   "cell_type": "code",
   "execution_count": 46,
   "metadata": {},
   "outputs": [],
   "source": [
    "#need to check again, it doesnt work\n",
    "outliers = []\n",
    "def detect_outliers_iqr(df):\n",
    "    df = sorted(df)\n",
    "    q1 = np.percentile(df, 25)\n",
    "    q3 = np.percentile(df, 75)\n",
    "    IQR = q3 -q1\n",
    "    lwr_bound = q1 -(1.5*IQR)\n",
    "    upr_bound = q3 + (1.5*IQR)\n",
    "    \n",
    "    for i in df:\n",
    "        if (i < lwr_bound or i > upr_bound):\n",
    "            outliers.append(i)\n",
    "    return outliers"
   ]
  },
  {
   "cell_type": "code",
   "execution_count": 47,
   "metadata": {},
   "outputs": [],
   "source": [
    "#outliers_ = detect_outliers_iqr(df)"
   ]
  },
  {
   "cell_type": "markdown",
   "metadata": {},
   "source": [
    "### Correlation"
   ]
  },
  {
   "cell_type": "code",
   "execution_count": 48,
   "metadata": {},
   "outputs": [],
   "source": [
    "corr_mat= df.corr()"
   ]
  },
  {
   "cell_type": "code",
   "execution_count": 49,
   "metadata": {},
   "outputs": [
    {
     "name": "stdout",
     "output_type": "stream",
     "text": [
      "satisfaction                         1.000000\n",
      "Ease of Online booking               0.246635\n",
      "Inflight entertainment               0.236736\n",
      "On-board service                     0.227756\n",
      "Leg room service                     0.216899\n",
      "Online boarding                      0.209781\n",
      "Online support                       0.205664\n",
      "Cleanliness                          0.204312\n",
      "Baggage handling                     0.202755\n",
      "Checkin service                      0.198929\n",
      "Seat comfort                         0.175224\n",
      "Inflight wifi service                0.159548\n",
      "Age                                  0.125824\n",
      "Food and drink                       0.122408\n",
      "Gate location                        0.093587\n",
      "Departure/Arrival time convenient    0.082858\n",
      "Departure Delay in Minutes          -0.050610\n",
      "Flight Distance                     -0.052690\n",
      "Arrival Delay in Minutes            -0.061619\n",
      "Type of Travel                      -0.112287\n",
      "Gender                              -0.212686\n",
      "Class                               -0.283321\n",
      "Customer Type                       -0.292330\n",
      "Name: satisfaction, dtype: float64\n"
     ]
    }
   ],
   "source": [
    "print(corr_mat['satisfaction'].sort_values(ascending= False))"
   ]
  },
  {
   "cell_type": "code",
   "execution_count": 50,
   "metadata": {},
   "outputs": [
    {
     "name": "stdout",
     "output_type": "stream",
     "text": [
      "Flight Distance                    Age               -0.825217\n",
      "Inflight entertainment             Flight Distance   -0.706498\n",
      "Online support                     Flight Distance   -0.706272\n",
      "Inflight wifi service              Flight Distance   -0.682142\n",
      "Online boarding                    Flight Distance   -0.666952\n",
      "Gate location                      Flight Distance   -0.660048\n",
      "Leg room service                   Flight Distance   -0.648908\n",
      "Baggage handling                   Flight Distance   -0.646877\n",
      "Departure/Arrival time convenient  Flight Distance   -0.644683\n",
      "Ease of Online booking             Flight Distance   -0.634002\n",
      "Cleanliness                        Flight Distance   -0.631300\n",
      "On-board service                   Flight Distance   -0.629155\n",
      "Seat comfort                       Flight Distance   -0.623177\n",
      "Food and drink                     Flight Distance   -0.620425\n",
      "Checkin service                    Flight Distance   -0.607317\n",
      "dtype: float64\n"
     ]
    }
   ],
   "source": [
    "# sort values without duplicates\n",
    "# Retain upper triangular values of correlation matrix and\n",
    "# make Lower triangular values Null\n",
    "upper_corr_mat = corr_mat.where(np.triu(np.ones(corr_mat.shape), k=1).astype(np.bool))\n",
    "\n",
    "# convert to 1_D series and drop Null values\n",
    "unique_corr_pairs = upper_corr_mat.unstack().dropna()\n",
    "\n",
    "#Sort correlation pairs\n",
    "sorted_mat = unique_corr_pairs.sort_values()\n",
    "print(sorted_mat.head(15))"
   ]
  },
  {
   "cell_type": "code",
   "execution_count": 51,
   "metadata": {},
   "outputs": [
    {
     "data": {
      "image/png": "[encoded data removed]",
      "text/plain": [
       "<Figure size 1080x1080 with 2 Axes>"
      ]
     },
     "metadata": {},
     "output_type": "display_data"
    }
   ],
   "source": [
    "sns.set(rc={'figure.figsize':(15,15)})\n",
    "df_heatmap = sns.heatmap(df.corr(), vmax=1, vmin= 1, annot= True)\n",
    "plt.show()"
   ]
  },
  {
   "cell_type": "code",
   "execution_count": 52,
   "metadata": {},
   "outputs": [],
   "source": [
    "# drop less correlation variables\n",
    "drop_cols= ['Gate location', 'Departure/Arrival time convenient', 'Departure Delay in Minutes', \n",
    "            'Flight Distance', 'Arrival Delay in Minutes', 'Type of Travel' ]"
   ]
  },
  {
   "cell_type": "code",
   "execution_count": 53,
   "metadata": {},
   "outputs": [],
   "source": [
    "df.drop(drop_cols, axis= 1, inplace= True)"
   ]
  },
  {
   "cell_type": "code",
   "execution_count": 54,
   "metadata": {},
   "outputs": [
    {
     "data": {
      "text/plain": [
       "(126869, 17)"
      ]
     },
     "execution_count": 54,
     "metadata": {},
     "output_type": "execute_result"
    }
   ],
   "source": [
    "df.shape"
   ]
  },
  {
   "cell_type": "markdown",
   "metadata": {},
   "source": [
    "# Training with outlier handling and drop less correlation columns"
   ]
  },
  {
   "cell_type": "code",
   "execution_count": 55,
   "metadata": {},
   "outputs": [],
   "source": [
    "X = df.drop(['satisfaction'], axis= 1)\n",
    "y = df['satisfaction']"
   ]
  },
  {
   "cell_type": "code",
   "execution_count": 56,
   "metadata": {},
   "outputs": [],
   "source": [
    "from sklearn.model_selection import train_test_split\n",
    "from sklearn.linear_model import LogisticRegression\n",
    "from sklearn.tree import DecisionTreeClassifier\n",
    "from sklearn.ensemble import RandomForestClassifier, AdaBoostClassifier, BaggingClassifier, GradientBoostingClassifier\n",
    "from xgboost import XGBClassifier\n",
    "from sklearn.svm import SVC\n",
    "from sklearn.metrics import accuracy_score\n",
    "from sklearn.metrics import roc_curve, roc_auc_score, auc\n",
    "from sklearn import tree"
   ]
  },
  {
   "cell_type": "code",
   "execution_count": 57,
   "metadata": {},
   "outputs": [],
   "source": [
    "X_train, X_test, y_train, y_test= train_test_split(X, y, test_size= 0.25, random_state= 37)"
   ]
  },
  {
   "cell_type": "markdown",
   "metadata": {},
   "source": [
    "## Training data with Logistic Regression model"
   ]
  },
  {
   "cell_type": "code",
   "execution_count": 58,
   "metadata": {},
   "outputs": [],
   "source": [
    "log_reg_clf = LogisticRegression()"
   ]
  },
  {
   "cell_type": "code",
   "execution_count": 59,
   "metadata": {},
   "outputs": [
    {
     "data": {
      "text/plain": [
       "LogisticRegression()"
      ]
     },
     "execution_count": 59,
     "metadata": {},
     "output_type": "execute_result"
    }
   ],
   "source": [
    "log_reg_clf.fit(X_train, y_train)"
   ]
  },
  {
   "cell_type": "code",
   "execution_count": 60,
   "metadata": {},
   "outputs": [],
   "source": [
    "lr_y_pred = log_reg_clf.predict(X_test)"
   ]
  },
  {
   "cell_type": "markdown",
   "metadata": {},
   "source": [
    "## Measuring Model Performance"
   ]
  },
  {
   "cell_type": "code",
   "execution_count": 61,
   "metadata": {},
   "outputs": [
    {
     "data": {
      "text/plain": [
       "0.7555961914370389"
      ]
     },
     "execution_count": 61,
     "metadata": {},
     "output_type": "execute_result"
    }
   ],
   "source": [
    "# accurary metric on test dataset\n",
    "score = log_reg_clf.score(X_test, y_test)\n",
    "score"
   ]
  },
  {
   "cell_type": "code",
   "execution_count": 62,
   "metadata": {},
   "outputs": [
    {
     "data": {
      "text/plain": [
       "0.7524776408025139"
      ]
     },
     "execution_count": 62,
     "metadata": {},
     "output_type": "execute_result"
    }
   ],
   "source": [
    "# accuracy on train dataset\n",
    "score_train = log_reg_clf.score(X_train, y_train)\n",
    "score_train"
   ]
  },
  {
   "cell_type": "code",
   "execution_count": 63,
   "metadata": {},
   "outputs": [
    {
     "data": {
      "text/plain": [
       "array([[10105,  4393],\n",
       "       [ 3359, 13861]], dtype=int64)"
      ]
     },
     "execution_count": 63,
     "metadata": {},
     "output_type": "execute_result"
    }
   ],
   "source": [
    "# confusion metric\n",
    "from sklearn import metrics\n",
    "cm = metrics.confusion_matrix(y_test, lr_y_pred)\n",
    "cm"
   ]
  },
  {
   "cell_type": "markdown",
   "metadata": {},
   "source": [
    "Confusion matrix results say there are \n",
    "10105 (TP) of them were correctly classified as positive   \n",
    "4393 (FP) of them were incorrectly classfied as positive\n",
    "3359 (FN ) of them were incorrectly classfied as negative\n",
    "13861 (TN) of them were correctly classified as negative"
   ]
  },
  {
   "cell_type": "code",
   "execution_count": 64,
   "metadata": {},
   "outputs": [
    {
     "data": {
      "text/plain": [
       "0.7593404185384025"
      ]
     },
     "execution_count": 64,
     "metadata": {},
     "output_type": "execute_result"
    }
   ],
   "source": [
    "from sklearn.metrics import precision_score, recall_score\n",
    "precision_score(y_test, lr_y_pred, average='binary')"
   ]
  },
  {
   "cell_type": "code",
   "execution_count": 65,
   "metadata": {},
   "outputs": [
    {
     "data": {
      "image/png": "[encoded data removed]",
      "text/plain": [
       "<Figure size 1080x1080 with 1 Axes>"
      ]
     },
     "metadata": {},
     "output_type": "display_data"
    }
   ],
   "source": [
    "#ROC curve\n",
    "probs = log_reg_clf.predict_proba(X_test)\n",
    "preds = probs[:,1]\n",
    "fpr, tpr, threshold = metrics.roc_curve(y_test, preds)\n",
    "roc_auc = metrics.auc(fpr, tpr)\n",
    "\n",
    "#plot the curve\n",
    "plt.title('Receiver Operating Characteristic')\n",
    "plt.plot(fpr, tpr, 'b', label =\"AUC =%0.2f\" %roc_auc)\n",
    "plt.legend(loc ='lower right')\n",
    "plt.plot([0,1], [0,1], 'r--')\n",
    "plt.xlim([0,1])\n",
    "plt.ylim([0,1])\n",
    "plt.ylabel('True Positive Rate')\n",
    "plt.xlabel('False Positive Rate')\n",
    "plt.show()"
   ]
  },
  {
   "cell_type": "code",
   "execution_count": 66,
   "metadata": {},
   "outputs": [
    {
     "data": {
      "text/plain": [
       "0.7509644047182447"
      ]
     },
     "execution_count": 66,
     "metadata": {},
     "output_type": "execute_result"
    }
   ],
   "source": [
    "roc_auc_score(y_test, lr_y_pred)"
   ]
  },
  {
   "cell_type": "markdown",
   "metadata": {},
   "source": [
    "# Training data with XGBoost"
   ]
  },
  {
   "cell_type": "code",
   "execution_count": 67,
   "metadata": {},
   "outputs": [],
   "source": [
    "XGB_clf = XGBClassifier()"
   ]
  },
  {
   "cell_type": "code",
   "execution_count": 68,
   "metadata": {},
   "outputs": [
    {
     "name": "stdout",
     "output_type": "stream",
     "text": [
      "[12:15:17] WARNING: C:/Users/Administrator/workspace/xgboost-win64_release_1.5.1/src/learner.cc:1115: Starting in XGBoost 1.3.0, the default evaluation metric used with the objective 'binary:logistic' was changed from 'error' to 'logloss'. Explicitly set eval_metric if you'd like to restore the old behavior.\n"
     ]
    },
    {
     "data": {
      "text/plain": [
       "XGBClassifier(base_score=0.5, booster='gbtree', colsample_bylevel=1,\n",
       "              colsample_bynode=1, colsample_bytree=1, enable_categorical=False,\n",
       "              gamma=0, gpu_id=-1, importance_type=None,\n",
       "              interaction_constraints='', learning_rate=0.300000012,\n",
       "              max_delta_step=0, max_depth=6, min_child_weight=1, missing=nan,\n",
       "              monotone_constraints='()', n_estimators=100, n_jobs=8,\n",
       "              num_parallel_tree=1, predictor='auto', random_state=0,\n",
       "              reg_alpha=0, reg_lambda=1, scale_pos_weight=1, subsample=1,\n",
       "              tree_method='exact', validate_parameters=1, verbosity=None)"
      ]
     },
     "execution_count": 68,
     "metadata": {},
     "output_type": "execute_result"
    }
   ],
   "source": [
    "XGB_clf.fit(X_train, y_train)"
   ]
  },
  {
   "cell_type": "code",
   "execution_count": 69,
   "metadata": {},
   "outputs": [],
   "source": [
    "xgb_y_pred = XGB_clf.predict(X_test)"
   ]
  },
  {
   "cell_type": "code",
   "execution_count": 70,
   "metadata": {},
   "outputs": [
    {
     "data": {
      "text/plain": [
       "0.9142127498581247"
      ]
     },
     "execution_count": 70,
     "metadata": {},
     "output_type": "execute_result"
    }
   ],
   "source": [
    "#evaluate predictions\n",
    "xgb_score = accuracy_score(y_test, xgb_y_pred)\n",
    "xgb_score"
   ]
  },
  {
   "cell_type": "markdown",
   "metadata": {},
   "source": [
    "#### Evaluate XGBoost Models With k-Fold Cross Validation"
   ]
  },
  {
   "cell_type": "code",
   "execution_count": 71,
   "metadata": {},
   "outputs": [],
   "source": [
    "from sklearn.model_selection import StratifiedKFold\n",
    "from sklearn.model_selection import cross_val_score"
   ]
  },
  {
   "cell_type": "code",
   "execution_count": 72,
   "metadata": {},
   "outputs": [
    {
     "name": "stdout",
     "output_type": "stream",
     "text": [
      "[12:15:27] WARNING: C:/Users/Administrator/workspace/xgboost-win64_release_1.5.1/src/learner.cc:1115: Starting in XGBoost 1.3.0, the default evaluation metric used with the objective 'binary:logistic' was changed from 'error' to 'logloss'. Explicitly set eval_metric if you'd like to restore the old behavior.\n",
      "[12:15:38] WARNING: C:/Users/Administrator/workspace/xgboost-win64_release_1.5.1/src/learner.cc:1115: Starting in XGBoost 1.3.0, the default evaluation metric used with the objective 'binary:logistic' was changed from 'error' to 'logloss'. Explicitly set eval_metric if you'd like to restore the old behavior.\n",
      "[12:15:47] WARNING: C:/Users/Administrator/workspace/xgboost-win64_release_1.5.1/src/learner.cc:1115: Starting in XGBoost 1.3.0, the default evaluation metric used with the objective 'binary:logistic' was changed from 'error' to 'logloss'. Explicitly set eval_metric if you'd like to restore the old behavior.\n",
      "[12:15:57] WARNING: C:/Users/Administrator/workspace/xgboost-win64_release_1.5.1/src/learner.cc:1115: Starting in XGBoost 1.3.0, the default evaluation metric used with the objective 'binary:logistic' was changed from 'error' to 'logloss'. Explicitly set eval_metric if you'd like to restore the old behavior.\n",
      "[12:16:07] WARNING: C:/Users/Administrator/workspace/xgboost-win64_release_1.5.1/src/learner.cc:1115: Starting in XGBoost 1.3.0, the default evaluation metric used with the objective 'binary:logistic' was changed from 'error' to 'logloss'. Explicitly set eval_metric if you'd like to restore the old behavior.\n",
      "[12:16:17] WARNING: C:/Users/Administrator/workspace/xgboost-win64_release_1.5.1/src/learner.cc:1115: Starting in XGBoost 1.3.0, the default evaluation metric used with the objective 'binary:logistic' was changed from 'error' to 'logloss'. Explicitly set eval_metric if you'd like to restore the old behavior.\n",
      "[12:16:27] WARNING: C:/Users/Administrator/workspace/xgboost-win64_release_1.5.1/src/learner.cc:1115: Starting in XGBoost 1.3.0, the default evaluation metric used with the objective 'binary:logistic' was changed from 'error' to 'logloss'. Explicitly set eval_metric if you'd like to restore the old behavior.\n",
      "[12:16:37] WARNING: C:/Users/Administrator/workspace/xgboost-win64_release_1.5.1/src/learner.cc:1115: Starting in XGBoost 1.3.0, the default evaluation metric used with the objective 'binary:logistic' was changed from 'error' to 'logloss'. Explicitly set eval_metric if you'd like to restore the old behavior.\n",
      "[12:16:47] WARNING: C:/Users/Administrator/workspace/xgboost-win64_release_1.5.1/src/learner.cc:1115: Starting in XGBoost 1.3.0, the default evaluation metric used with the objective 'binary:logistic' was changed from 'error' to 'logloss'. Explicitly set eval_metric if you'd like to restore the old behavior.\n",
      "[12:16:57] WARNING: C:/Users/Administrator/workspace/xgboost-win64_release_1.5.1/src/learner.cc:1115: Starting in XGBoost 1.3.0, the default evaluation metric used with the objective 'binary:logistic' was changed from 'error' to 'logloss'. Explicitly set eval_metric if you'd like to restore the old behavior.\n",
      "Training Accuracy: 91.22% (0.12%)\n"
     ]
    }
   ],
   "source": [
    "kfold = StratifiedKFold(n_splits=10, random_state=7)\n",
    "results = cross_val_score(XGB_clf, X_train, y_train, cv=kfold)\n",
    "print(\"Training Accuracy: %.2f%% (%.2f%%)\" % (results.mean()*100, results.std()*100))"
   ]
  },
  {
   "cell_type": "markdown",
   "metadata": {},
   "source": [
    "# Training data with Decision Tree Classifier"
   ]
  },
  {
   "cell_type": "code",
   "execution_count": 73,
   "metadata": {},
   "outputs": [
    {
     "data": {
      "text/plain": [
       "DecisionTreeClassifier(max_depth=3)"
      ]
     },
     "execution_count": 73,
     "metadata": {},
     "output_type": "execute_result"
    }
   ],
   "source": [
    "tree_clf = DecisionTreeClassifier(max_depth = 3)\n",
    "tree_clf.fit(X_train, y_train)"
   ]
  },
  {
   "cell_type": "code",
   "execution_count": 74,
   "metadata": {},
   "outputs": [],
   "source": [
    "#predict response for test dataset\n",
    "tree_y_pred =tree_clf.predict(X_test)"
   ]
  },
  {
   "cell_type": "markdown",
   "metadata": {},
   "source": [
    "Evaluating Model"
   ]
  },
  {
   "cell_type": "code",
   "execution_count": 75,
   "metadata": {},
   "outputs": [
    {
     "name": "stdout",
     "output_type": "stream",
     "text": [
      "Test Acuraccy: 0.7615549530235197\n"
     ]
    }
   ],
   "source": [
    "print('Test Acuraccy:', metrics.accuracy_score(y_test, tree_y_pred))"
   ]
  },
  {
   "cell_type": "markdown",
   "metadata": {},
   "source": [
    "Visualize Decision Tree"
   ]
  },
  {
   "cell_type": "code",
   "execution_count": 76,
   "metadata": {},
   "outputs": [
    {
     "name": "stdout",
     "output_type": "stream",
     "text": [
      "Requirement already satisfied: graphviz in c:\\users\\17144\\anaconda3\\lib\\site-packages (0.19.1)\n",
      "Note: you may need to restart the kernel to use updated packages.\n"
     ]
    }
   ],
   "source": [
    "pip install graphviz"
   ]
  },
  {
   "cell_type": "code",
   "execution_count": 77,
   "metadata": {},
   "outputs": [
    {
     "name": "stdout",
     "output_type": "stream",
     "text": [
      "Requirement already satisfied: pydotplus in c:\\users\\17144\\anaconda3\\lib\\site-packages (2.0.2)\n",
      "Requirement already satisfied: pyparsing>=2.0.1 in c:\\users\\17144\\anaconda3\\lib\\site-packages (from pydotplus) (2.4.7)\n",
      "Note: you may need to restart the kernel to use updated packages.\n"
     ]
    }
   ],
   "source": [
    "pip install pydotplus"
   ]
  },
  {
   "cell_type": "code",
   "execution_count": 78,
   "metadata": {},
   "outputs": [],
   "source": [
    "#fig, ax = plt.subplots(figsize=(10, 10))\n",
    "#tree.plot_tree(tree_clf, fontsize=10)\n",
    "#plt.show()"
   ]
  },
  {
   "cell_type": "markdown",
   "metadata": {},
   "source": [
    "# Training data with Random Forest Classifier\n",
    "- visualize important features"
   ]
  },
  {
   "cell_type": "code",
   "execution_count": 79,
   "metadata": {},
   "outputs": [],
   "source": [
    "rf_clf = RandomForestClassifier(n_estimators = 100, random_state= 37)"
   ]
  },
  {
   "cell_type": "code",
   "execution_count": 80,
   "metadata": {},
   "outputs": [
    {
     "data": {
      "text/plain": [
       "RandomForestClassifier(random_state=37)"
      ]
     },
     "execution_count": 80,
     "metadata": {},
     "output_type": "execute_result"
    }
   ],
   "source": [
    "rf_clf.fit(X_train, y_train)"
   ]
  },
  {
   "cell_type": "code",
   "execution_count": null,
   "metadata": {},
   "outputs": [],
   "source": [
    "ada_clf = AdaBoostClassifier()"
   ]
  },
  {
   "cell_type": "code",
   "execution_count": null,
   "metadata": {},
   "outputs": [],
   "source": [
    "ada_clf.fit(X_train, y_train)"
   ]
  },
  {
   "cell_type": "markdown",
   "metadata": {},
   "source": [
    "A Bagging classifier is an ensemble meta-estimator that fits base classifiers each on random subsets of the original dataset \n",
    "and then aggregate their individual predictions (either by voting or by averaging) to form a final prediction."
   ]
  },
  {
   "cell_type": "code",
   "execution_count": null,
   "metadata": {},
   "outputs": [],
   "source": [
    "bagging_clf = BaggingClassifier()"
   ]
  },
  {
   "cell_type": "code",
   "execution_count": null,
   "metadata": {},
   "outputs": [],
   "source": [
    "bagging_clf.fit(X_train, y_train)"
   ]
  },
  {
   "cell_type": "code",
   "execution_count": null,
   "metadata": {},
   "outputs": [],
   "source": [
    "gb_clf = GradientBoostingClassifier()"
   ]
  },
  {
   "cell_type": "code",
   "execution_count": null,
   "metadata": {},
   "outputs": [],
   "source": [
    "gb_clf.fit(X_train, y_train)"
   ]
  },
  {
   "cell_type": "code",
   "execution_count": null,
   "metadata": {},
   "outputs": [],
   "source": [
    "ensemble_model = [rf_clf, ada_clf, bagging_clf, gb_clf]\n",
    "for m in ensemble_model:\n",
    "    pred = m.predict(X_test)\n",
    "    print('%f is the accuracy score for %s'%(accuracy_score(y_test,pred),m))"
   ]
  },
  {
   "cell_type": "code",
   "execution_count": null,
   "metadata": {},
   "outputs": [],
   "source": [
    "X.columns"
   ]
  },
  {
   "cell_type": "code",
   "execution_count": null,
   "metadata": {},
   "outputs": [],
   "source": [
    "for i in enumerate(X.columns):\n",
    "    print (i)"
   ]
  },
  {
   "cell_type": "code",
   "execution_count": null,
   "metadata": {},
   "outputs": [],
   "source": [
    "#FIND BEST FEATURES\n",
    "key_features= rf_clf.feature_importances_\n",
    "key_features_series = pd.Series(key_features)\n",
    "key_features_series = pd.to_numeric(key_features_series, errors= 'coerce')\n",
    "key_features_series.sort_values(ascending = False)"
   ]
  },
  {
   "cell_type": "markdown",
   "metadata": {},
   "source": [
    "Base on the above result. Top 5 important features are:  Inflight entertainment, Seat comfort, Class, Food and Drink and Age"
   ]
  },
  {
   "cell_type": "markdown",
   "metadata": {},
   "source": [
    "# Train with SVC"
   ]
  },
  {
   "cell_type": "code",
   "execution_count": null,
   "metadata": {},
   "outputs": [],
   "source": [
    "svc_clf = SVC()"
   ]
  },
  {
   "cell_type": "code",
   "execution_count": null,
   "metadata": {},
   "outputs": [],
   "source": [
    "svc_clf.fit(X_train, y_train)"
   ]
  },
  {
   "cell_type": "code",
   "execution_count": null,
   "metadata": {},
   "outputs": [],
   "source": [
    "svc_y_pred = svc_clf.predict(X_test)"
   ]
  },
  {
   "cell_type": "code",
   "execution_count": null,
   "metadata": {},
   "outputs": [],
   "source": [
    "print('SVC Score:', accuracy_score(y_test, svc_y_pred) )"
   ]
  },
  {
   "cell_type": "code",
   "execution_count": null,
   "metadata": {},
   "outputs": [],
   "source": [
    "from sklearn.metrics import roc_curve\n",
    "\n",
    "fpr, tpr, thresholds = roc_curve(y_test, svc_y_pred)\n",
    "\n",
    "plt.figure(figsize=(6,4))\n",
    "\n",
    "plt.plot(fpr, tpr, linewidth=2)\n",
    "\n",
    "plt.plot([0,1], [0,1], 'k--' )\n",
    "\n",
    "plt.rcParams['font.size'] = 12\n",
    "\n",
    "plt.title('ROC curve for Predicting Satisfaction')\n",
    "\n",
    "plt.xlabel('False Positive Rate (1 - Specificity)')\n",
    "\n",
    "plt.ylabel('True Positive Rate (Sensitivity)')\n",
    "\n",
    "plt.show()"
   ]
  },
  {
   "cell_type": "markdown",
   "metadata": {},
   "source": [
    "# Hyperparameter Optimization SVC using GridSearch CV"
   ]
  },
  {
   "cell_type": "code",
   "execution_count": null,
   "metadata": {},
   "outputs": [],
   "source": [
    "from sklearn.model_selection import GridSearchCV"
   ]
  },
  {
   "cell_type": "code",
   "execution_count": null,
   "metadata": {},
   "outputs": [],
   "source": [
    "svc = SVC()"
   ]
  },
  {
   "cell_type": "code",
   "execution_count": null,
   "metadata": {},
   "outputs": [],
   "source": [
    "parameters = [ {'C':[1, 10, 100, 1000], 'kernel':['linear']},\n",
    "               {'C':[1, 10, 100, 1000], 'kernel':['rbf'], 'gamma':[0.1, 0.2, 0.3, 0.4, 0.5, 0.6, 0.7, 0.8, 0.9]},\n",
    "               {'C':[1, 10, 100, 1000], 'kernel':['poly'], 'degree': [2,3,4] ,'gamma':[0.01,0.02,0.03,0.04,0.05]} \n",
    "              ]\n",
    "grid_search = GridSearchCV(estimator = svc,  \n",
    "                           param_grid = parameters,\n",
    "                           scoring = 'accuracy',\n",
    "                           cv = 5,\n",
    "                           verbose=0)\n",
    "grid_search.fit(X_train, y_train)"
   ]
  },
  {
   "cell_type": "code",
   "execution_count": null,
   "metadata": {},
   "outputs": [],
   "source": []
  },
  {
   "cell_type": "markdown",
   "metadata": {},
   "source": [
    "# Tune Hyperparameters for better performance- in processing\n",
    "\n",
    "# Logistic Regression \n",
    "- tuning C = [0.001,0.01,0.1,1,10,100]\n",
    "- Parameter C will work the other way around. For small values of C, we increase the regularization strength which will create simple models which underfit the data. For big values of C, we low the power of regularization which imples the model is allowed to increase it's complexity, and therefore, overfit the data.\n",
    "# Decision Tree Classifier\n",
    "- tuning max_features, max_leaf_nodes, min_samples_leaf, min_samples_split\n",
    "# Random Forest\n",
    "- the most important parameter is the number of random fatures to sample at each split point(max_features). Here I try a range of integer values for all the number of input features. (or 1 to half)\n",
    "- another important parameter for random forest is the number of trees(n_estimators). Ideally, this should be increased until no further improvement is seen in the model.\n",
    "# XGBoost"
   ]
  },
  {
   "cell_type": "code",
   "execution_count": null,
   "metadata": {},
   "outputs": [],
   "source": [
    "from sklearn.model_selection import RepeatedStratifiedKFold\n",
    "from sklearn.model_selection import GridSearchCV"
   ]
  },
  {
   "cell_type": "code",
   "execution_count": null,
   "metadata": {},
   "outputs": [],
   "source": [
    "param_grid = {\n",
    "    'n_estimators': [100,500,  700],\n",
    "    'max_features': ['auto', 'sqrt', 'log2']\n",
    "}\n",
    "CV_rfc = GridSearchCV(estimator=rf_clf,param_grid=param_grid, cv= 5,scoring='accuracy')\n",
    "CV_rfc.fit(X_train, y_train)\n",
    "print('Best parameter:', CV_rfc.best_params_)\n",
    "print(\"accuracy :\",CV_rfc.best_score_*100)"
   ]
  },
  {
   "cell_type": "code",
   "execution_count": null,
   "metadata": {},
   "outputs": [],
   "source": [
    "# make predictions on test data \n",
    "grid_predictions = CV_rfc.predict(X_test) \n",
    "test_accuracy=accuracy_score(y_test,grid_predictions)*100\n",
    "print(\"Accuracy for our testing dataset with tuning is : {:.2f}%\".format(test_accuracy) )"
   ]
  },
  {
   "cell_type": "markdown",
   "metadata": {},
   "source": [
    "## Deep learning"
   ]
  },
  {
   "cell_type": "code",
   "execution_count": 81,
   "metadata": {},
   "outputs": [
    {
     "name": "stdout",
     "output_type": "stream",
     "text": [
      "Requirement already satisfied: keras in c:\\users\\17144\\anaconda3\\lib\\site-packages (2.8.0)\n",
      "Note: you may need to restart the kernel to use updated packages.\n"
     ]
    }
   ],
   "source": [
    "pip install keras "
   ]
  },
  {
   "cell_type": "code",
   "execution_count": 82,
   "metadata": {},
   "outputs": [
    {
     "name": "stdout",
     "output_type": "stream",
     "text": [
      "Requirement already satisfied: tensorflow in c:\\users\\17144\\anaconda3\\lib\\site-packages (2.8.0)\n",
      "Requirement already satisfied: keras<2.9,>=2.8.0rc0 in c:\\users\\17144\\anaconda3\\lib\\site-packages (from tensorflow) (2.8.0)\n",
      "Requirement already satisfied: gast>=0.2.1 in c:\\users\\17144\\anaconda3\\lib\\site-packages (from tensorflow) (0.5.3)\n",
      "Requirement already satisfied: numpy>=1.20 in c:\\users\\17144\\anaconda3\\lib\\site-packages (from tensorflow) (1.22.3)\n",
      "Requirement already satisfied: termcolor>=1.1.0 in c:\\users\\17144\\anaconda3\\lib\\site-packages (from tensorflow) (1.1.0)\n",
      "Requirement already satisfied: setuptools in c:\\users\\17144\\anaconda3\\lib\\site-packages (from tensorflow) (50.3.1.post20201107)\n",
      "Requirement already satisfied: six>=1.12.0 in c:\\users\\17144\\anaconda3\\lib\\site-packages (from tensorflow) (1.15.0)\n",
      "Requirement already satisfied: typing-extensions>=3.6.6 in c:\\users\\17144\\anaconda3\\lib\\site-packages (from tensorflow) (3.7.4.3)\n",
      "Requirement already satisfied: google-pasta>=0.1.1 in c:\\users\\17144\\anaconda3\\lib\\site-packages (from tensorflow) (0.2.0)\n",
      "Requirement already satisfied: keras-preprocessing>=1.1.1 in c:\\users\\17144\\anaconda3\\lib\\site-packages (from tensorflow) (1.1.2)\n",
      "Requirement already satisfied: tensorboard<2.9,>=2.8 in c:\\users\\17144\\anaconda3\\lib\\site-packages (from tensorflow) (2.8.0)\n",
      "Requirement already satisfied: opt-einsum>=2.3.2 in c:\\users\\17144\\anaconda3\\lib\\site-packages (from tensorflow) (3.3.0)\n",
      "Requirement already satisfied: libclang>=9.0.1 in c:\\users\\17144\\anaconda3\\lib\\site-packages (from tensorflow) (13.0.0)\n",
      "Requirement already satisfied: grpcio<2.0,>=1.24.3 in c:\\users\\17144\\anaconda3\\lib\\site-packages (from tensorflow) (1.44.0)\n",
      "Requirement already satisfied: flatbuffers>=1.12 in c:\\users\\17144\\anaconda3\\lib\\site-packages (from tensorflow) (2.0)\n",
      "Requirement already satisfied: h5py>=2.9.0 in c:\\users\\17144\\anaconda3\\lib\\site-packages (from tensorflow) (2.10.0)\n",
      "Requirement already satisfied: protobuf>=3.9.2 in c:\\users\\17144\\anaconda3\\lib\\site-packages (from tensorflow) (3.19.4)\n",
      "Requirement already satisfied: astunparse>=1.6.0 in c:\\users\\17144\\anaconda3\\lib\\site-packages (from tensorflow) (1.6.3)\n",
      "Requirement already satisfied: wrapt>=1.11.0 in c:\\users\\17144\\anaconda3\\lib\\site-packages (from tensorflow) (1.11.2)\n",
      "Requirement already satisfied: tensorflow-io-gcs-filesystem>=0.23.1 in c:\\users\\17144\\anaconda3\\lib\\site-packages (from tensorflow) (0.24.0)\n",
      "Requirement already satisfied: tf-estimator-nightly==2.8.0.dev2021122109 in c:\\users\\17144\\anaconda3\\lib\\site-packages (from tensorflow) (2.8.0.dev2021122109)\n",
      "Requirement already satisfied: absl-py>=0.4.0 in c:\\users\\17144\\anaconda3\\lib\\site-packages (from tensorflow) (1.0.0)\n",
      "Requirement already satisfied: markdown>=2.6.8 in c:\\users\\17144\\anaconda3\\lib\\site-packages (from tensorboard<2.9,>=2.8->tensorflow) (3.3.6)\n",
      "Requirement already satisfied: requests<3,>=2.21.0 in c:\\users\\17144\\anaconda3\\lib\\site-packages (from tensorboard<2.9,>=2.8->tensorflow) (2.24.0)\n",
      "Requirement already satisfied: google-auth-oauthlib<0.5,>=0.4.1 in c:\\users\\17144\\anaconda3\\lib\\site-packages (from tensorboard<2.9,>=2.8->tensorflow) (0.4.6)\n",
      "Requirement already satisfied: werkzeug>=0.11.15 in c:\\users\\17144\\anaconda3\\lib\\site-packages (from tensorboard<2.9,>=2.8->tensorflow) (1.0.1)\n",
      "Requirement already satisfied: tensorboard-plugin-wit>=1.6.0 in c:\\users\\17144\\anaconda3\\lib\\site-packages (from tensorboard<2.9,>=2.8->tensorflow) (1.8.1)\n",
      "Requirement already satisfied: wheel>=0.26 in c:\\users\\17144\\anaconda3\\lib\\site-packages (from tensorboard<2.9,>=2.8->tensorflow) (0.35.1)\n",
      "Requirement already satisfied: tensorboard-data-server<0.7.0,>=0.6.0 in c:\\users\\17144\\anaconda3\\lib\\site-packages (from tensorboard<2.9,>=2.8->tensorflow) (0.6.1)\n",
      "Requirement already satisfied: google-auth<3,>=1.6.3 in c:\\users\\17144\\anaconda3\\lib\\site-packages (from tensorboard<2.9,>=2.8->tensorflow) (2.6.0)\n",
      "Requirement already satisfied: importlib-metadata>=4.4; python_version < \"3.10\" in c:\\users\\17144\\anaconda3\\lib\\site-packages (from markdown>=2.6.8->tensorboard<2.9,>=2.8->tensorflow) (4.11.3)\n",
      "Requirement already satisfied: idna<3,>=2.5 in c:\\users\\17144\\anaconda3\\lib\\site-packages (from requests<3,>=2.21.0->tensorboard<2.9,>=2.8->tensorflow) (2.10)\n",
      "Requirement already satisfied: chardet<4,>=3.0.2 in c:\\users\\17144\\anaconda3\\lib\\site-packages (from requests<3,>=2.21.0->tensorboard<2.9,>=2.8->tensorflow) (3.0.4)\n",
      "Requirement already satisfied: certifi>=2017.4.17 in c:\\users\\17144\\anaconda3\\lib\\site-packages (from requests<3,>=2.21.0->tensorboard<2.9,>=2.8->tensorflow) (2020.6.20)\n",
      "Requirement already satisfied: urllib3!=1.25.0,!=1.25.1,<1.26,>=1.21.1 in c:\\users\\17144\\anaconda3\\lib\\site-packages (from requests<3,>=2.21.0->tensorboard<2.9,>=2.8->tensorflow) (1.25.11)\n",
      "Requirement already satisfied: requests-oauthlib>=0.7.0 in c:\\users\\17144\\anaconda3\\lib\\site-packages (from google-auth-oauthlib<0.5,>=0.4.1->tensorboard<2.9,>=2.8->tensorflow) (1.3.1)\n",
      "Requirement already satisfied: pyasn1-modules>=0.2.1 in c:\\users\\17144\\anaconda3\\lib\\site-packages (from google-auth<3,>=1.6.3->tensorboard<2.9,>=2.8->tensorflow) (0.2.8)\n",
      "Requirement already satisfied: cachetools<6.0,>=2.0.0 in c:\\users\\17144\\anaconda3\\lib\\site-packages (from google-auth<3,>=1.6.3->tensorboard<2.9,>=2.8->tensorflow) (5.0.0)\n",
      "Requirement already satisfied: rsa<5,>=3.1.4; python_version >= \"3.6\" in c:\\users\\17144\\anaconda3\\lib\\site-packages (from google-auth<3,>=1.6.3->tensorboard<2.9,>=2.8->tensorflow) (4.8)\n",
      "Requirement already satisfied: zipp>=0.5 in c:\\users\\17144\\anaconda3\\lib\\site-packages (from importlib-metadata>=4.4; python_version < \"3.10\"->markdown>=2.6.8->tensorboard<2.9,>=2.8->tensorflow) (3.4.0)\n",
      "Requirement already satisfied: oauthlib>=3.0.0 in c:\\users\\17144\\anaconda3\\lib\\site-packages (from requests-oauthlib>=0.7.0->google-auth-oauthlib<0.5,>=0.4.1->tensorboard<2.9,>=2.8->tensorflow) (3.2.0)\n",
      "Requirement already satisfied: pyasn1<0.5.0,>=0.4.6 in c:\\users\\17144\\anaconda3\\lib\\site-packages (from pyasn1-modules>=0.2.1->google-auth<3,>=1.6.3->tensorboard<2.9,>=2.8->tensorflow) (0.4.8)\n",
      "Note: you may need to restart the kernel to use updated packages.\n"
     ]
    }
   ],
   "source": [
    "pip install tensorflow"
   ]
  },
  {
   "cell_type": "code",
   "execution_count": 99,
   "metadata": {},
   "outputs": [
    {
     "data": {
      "text/plain": [
       "(126869, 17)"
      ]
     },
     "execution_count": 99,
     "metadata": {},
     "output_type": "execute_result"
    }
   ],
   "source": [
    "df.shape"
   ]
  },
  {
   "cell_type": "code",
   "execution_count": 103,
   "metadata": {},
   "outputs": [],
   "source": [
    "import tensorflow as tf\n",
    "from tensorflow import keras\n",
    "from keras.models import Sequential\n",
    "from keras.layers import Dense"
   ]
  },
  {
   "cell_type": "code",
   "execution_count": 111,
   "metadata": {},
   "outputs": [],
   "source": [
    "deep_model = Sequential()\n",
    "deep_model.add(Dense(53, input_dim=16, activation = 'relu'))\n",
    "deep_model.add(Dense(11, activation = 'relu'))\n",
    "deep_model.add(Dense(8, activation= 'relu'))\n",
    "deep_model.add(Dense(1, activation= 'sigmoid'))"
   ]
  },
  {
   "cell_type": "code",
   "execution_count": 113,
   "metadata": {},
   "outputs": [
    {
     "name": "stdout",
     "output_type": "stream",
     "text": [
      "Epoch 1/250\n",
      "5947/5947 [==============================] - 6s 1ms/step - loss: 0.2522 - accuracy: 0.8909\n",
      "Epoch 2/250\n",
      "5947/5947 [==============================] - 7s 1ms/step - loss: 0.2510 - accuracy: 0.8916\n",
      "Epoch 3/250\n",
      "5947/5947 [==============================] - 6s 1ms/step - loss: 0.2501 - accuracy: 0.8914\n",
      "Epoch 4/250\n",
      "5947/5947 [==============================] - 6s 1ms/step - loss: 0.2516 - accuracy: 0.8914\n",
      "Epoch 5/250\n",
      "5947/5947 [==============================] - 6s 1ms/step - loss: 0.2503 - accuracy: 0.8907\n",
      "Epoch 6/250\n",
      "5947/5947 [==============================] - 6s 1ms/step - loss: 0.2507 - accuracy: 0.8912\n",
      "Epoch 7/250\n",
      "5947/5947 [==============================] - 7s 1ms/step - loss: 0.2493 - accuracy: 0.8910\n",
      "Epoch 8/250\n",
      "5947/5947 [==============================] - 6s 1ms/step - loss: 0.2485 - accuracy: 0.8924\n",
      "Epoch 9/250\n",
      "5947/5947 [==============================] - 6s 1ms/step - loss: 0.2505 - accuracy: 0.8915\n",
      "Epoch 10/250\n",
      "5947/5947 [==============================] - 6s 1ms/step - loss: 0.2505 - accuracy: 0.8916\n",
      "Epoch 11/250\n",
      "5947/5947 [==============================] - 6s 1ms/step - loss: 0.2486 - accuracy: 0.8918\n",
      "Epoch 12/250\n",
      "5947/5947 [==============================] - 7s 1ms/step - loss: 0.2486 - accuracy: 0.8915\n",
      "Epoch 13/250\n",
      "5947/5947 [==============================] - 7s 1ms/step - loss: 0.2479 - accuracy: 0.8923\n",
      "Epoch 14/250\n",
      "5947/5947 [==============================] - 7s 1ms/step - loss: 0.2514 - accuracy: 0.8914\n",
      "Epoch 15/250\n",
      "5947/5947 [==============================] - 7s 1ms/step - loss: 0.2487 - accuracy: 0.8919\n",
      "Epoch 16/250\n",
      "5947/5947 [==============================] - 7s 1ms/step - loss: 0.2479 - accuracy: 0.8928\n",
      "Epoch 17/250\n",
      "5947/5947 [==============================] - 7s 1ms/step - loss: 0.2483 - accuracy: 0.8927\n",
      "Epoch 18/250\n",
      "5947/5947 [==============================] - 7s 1ms/step - loss: 0.2478 - accuracy: 0.8926\n",
      "Epoch 19/250\n",
      "5947/5947 [==============================] - 7s 1ms/step - loss: 0.2476 - accuracy: 0.8922\n",
      "Epoch 20/250\n",
      "5947/5947 [==============================] - 6s 1ms/step - loss: 0.2465 - accuracy: 0.8929\n",
      "Epoch 21/250\n",
      "5947/5947 [==============================] - 7s 1ms/step - loss: 0.2464 - accuracy: 0.8932\n",
      "Epoch 22/250\n",
      "5947/5947 [==============================] - 6s 1ms/step - loss: 0.2470 - accuracy: 0.8941\n",
      "Epoch 23/250\n",
      "5947/5947 [==============================] - 6s 1ms/step - loss: 0.2477 - accuracy: 0.8918\n",
      "Epoch 24/250\n",
      "5947/5947 [==============================] - 6s 1ms/step - loss: 0.2469 - accuracy: 0.8927\n",
      "Epoch 25/250\n",
      "5947/5947 [==============================] - 6s 1ms/step - loss: 0.2466 - accuracy: 0.8923\n",
      "Epoch 26/250\n",
      "5947/5947 [==============================] - 6s 1ms/step - loss: 0.2463 - accuracy: 0.8934\n",
      "Epoch 27/250\n",
      "5947/5947 [==============================] - 6s 1ms/step - loss: 0.2473 - accuracy: 0.8926\n",
      "Epoch 28/250\n",
      "5947/5947 [==============================] - 6s 1ms/step - loss: 0.2460 - accuracy: 0.8929\n",
      "Epoch 29/250\n",
      "5947/5947 [==============================] - 6s 1ms/step - loss: 0.2462 - accuracy: 0.8924\n",
      "Epoch 30/250\n",
      "5947/5947 [==============================] - 6s 1ms/step - loss: 0.2460 - accuracy: 0.8939\n",
      "Epoch 31/250\n",
      "5947/5947 [==============================] - 6s 1ms/step - loss: 0.2462 - accuracy: 0.8938\n",
      "Epoch 32/250\n",
      "5947/5947 [==============================] - 6s 1ms/step - loss: 0.2465 - accuracy: 0.8930\n",
      "Epoch 33/250\n",
      "5947/5947 [==============================] - 6s 1ms/step - loss: 0.2452 - accuracy: 0.8928\n",
      "Epoch 34/250\n",
      "5947/5947 [==============================] - 6s 1ms/step - loss: 0.2451 - accuracy: 0.8938\n",
      "Epoch 35/250\n",
      "5947/5947 [==============================] - 6s 1ms/step - loss: 0.2442 - accuracy: 0.8938\n",
      "Epoch 36/250\n",
      "5947/5947 [==============================] - 6s 967us/step - loss: 0.2458 - accuracy: 0.8931\n",
      "Epoch 37/250\n",
      "5947/5947 [==============================] - 6s 1ms/step - loss: 0.2450 - accuracy: 0.8933\n",
      "Epoch 38/250\n",
      "5947/5947 [==============================] - 6s 992us/step - loss: 0.2442 - accuracy: 0.8944\n",
      "Epoch 39/250\n",
      "5947/5947 [==============================] - 6s 1ms/step - loss: 0.2448 - accuracy: 0.8937\n",
      "Epoch 40/250\n",
      "5947/5947 [==============================] - 6s 977us/step - loss: 0.2444 - accuracy: 0.8937\n",
      "Epoch 41/250\n",
      "5947/5947 [==============================] - 6s 966us/step - loss: 0.2449 - accuracy: 0.8940\n",
      "Epoch 42/250\n",
      "5947/5947 [==============================] - 6s 1ms/step - loss: 0.2441 - accuracy: 0.8936\n",
      "Epoch 43/250\n",
      "5947/5947 [==============================] - 6s 1ms/step - loss: 0.2453 - accuracy: 0.8927\n",
      "Epoch 44/250\n",
      "5947/5947 [==============================] - 6s 957us/step - loss: 0.2438 - accuracy: 0.8942\n",
      "Epoch 45/250\n",
      "5947/5947 [==============================] - 6s 1ms/step - loss: 0.2439 - accuracy: 0.8948\n",
      "Epoch 46/250\n",
      "5947/5947 [==============================] - 6s 978us/step - loss: 0.2439 - accuracy: 0.8947\n",
      "Epoch 47/250\n",
      "5947/5947 [==============================] - 6s 996us/step - loss: 0.2436 - accuracy: 0.8943\n",
      "Epoch 48/250\n",
      "5947/5947 [==============================] - 6s 1ms/step - loss: 0.2435 - accuracy: 0.8950\n",
      "Epoch 49/250\n",
      "5947/5947 [==============================] - 6s 996us/step - loss: 0.2426 - accuracy: 0.8952\n",
      "Epoch 50/250\n",
      "5947/5947 [==============================] - 6s 989us/step - loss: 0.2432 - accuracy: 0.8944\n",
      "Epoch 51/250\n",
      "5947/5947 [==============================] - 6s 1ms/step - loss: 0.2433 - accuracy: 0.8944\n",
      "Epoch 52/250\n",
      "5947/5947 [==============================] - 6s 1ms/step - loss: 0.2424 - accuracy: 0.8949\n",
      "Epoch 53/250\n",
      "5947/5947 [==============================] - 6s 1ms/step - loss: 0.2437 - accuracy: 0.8945\n",
      "Epoch 54/250\n",
      "5947/5947 [==============================] - 6s 1ms/step - loss: 0.2434 - accuracy: 0.8947\n",
      "Epoch 55/250\n",
      "5947/5947 [==============================] - 6s 1ms/step - loss: 0.2423 - accuracy: 0.8958\n",
      "Epoch 56/250\n",
      "5947/5947 [==============================] - 6s 1ms/step - loss: 0.2424 - accuracy: 0.8947\n",
      "Epoch 57/250\n",
      "5947/5947 [==============================] - 6s 1ms/step - loss: 0.2423 - accuracy: 0.8938\n",
      "Epoch 58/250\n",
      "5947/5947 [==============================] - 6s 1ms/step - loss: 0.2428 - accuracy: 0.8942\n",
      "Epoch 59/250\n",
      "5947/5947 [==============================] - 6s 1ms/step - loss: 0.2427 - accuracy: 0.8949\n",
      "Epoch 60/250\n",
      "5947/5947 [==============================] - 7s 1ms/step - loss: 0.2418 - accuracy: 0.8945\n",
      "Epoch 61/250\n",
      "5947/5947 [==============================] - 7s 1ms/step - loss: 0.2432 - accuracy: 0.8943\n",
      "Epoch 62/250\n",
      "5947/5947 [==============================] - 7s 1ms/step - loss: 0.2422 - accuracy: 0.8947\n",
      "Epoch 63/250\n",
      "5947/5947 [==============================] - 7s 1ms/step - loss: 0.2422 - accuracy: 0.8945\n",
      "Epoch 64/250\n",
      "5947/5947 [==============================] - 7s 1ms/step - loss: 0.2424 - accuracy: 0.8950\n",
      "Epoch 65/250\n",
      "5947/5947 [==============================] - 7s 1ms/step - loss: 0.2409 - accuracy: 0.8949\n",
      "Epoch 66/250\n",
      "5947/5947 [==============================] - 7s 1ms/step - loss: 0.2427 - accuracy: 0.8942\n",
      "Epoch 67/250\n",
      "5947/5947 [==============================] - 7s 1ms/step - loss: 0.2420 - accuracy: 0.8954\n",
      "Epoch 68/250\n",
      "5947/5947 [==============================] - 6s 1ms/step - loss: 0.2415 - accuracy: 0.8949\n",
      "Epoch 69/250\n",
      "5947/5947 [==============================] - 6s 1ms/step - loss: 0.2407 - accuracy: 0.8949\n",
      "Epoch 70/250\n",
      "5947/5947 [==============================] - 6s 1ms/step - loss: 0.2415 - accuracy: 0.8953\n",
      "Epoch 71/250\n",
      "5947/5947 [==============================] - 6s 1ms/step - loss: 0.2406 - accuracy: 0.8953\n",
      "Epoch 72/250\n",
      "5947/5947 [==============================] - 7s 1ms/step - loss: 0.2407 - accuracy: 0.8955\n",
      "Epoch 73/250\n",
      "5947/5947 [==============================] - 6s 1ms/step - loss: 0.2410 - accuracy: 0.8955\n",
      "Epoch 74/250\n",
      "5947/5947 [==============================] - 6s 1ms/step - loss: 0.2413 - accuracy: 0.8950\n",
      "Epoch 75/250\n",
      "5947/5947 [==============================] - 7s 1ms/step - loss: 0.2412 - accuracy: 0.8944\n",
      "Epoch 76/250\n",
      "5947/5947 [==============================] - 7s 1ms/step - loss: 0.2406 - accuracy: 0.8954\n",
      "Epoch 77/250\n",
      "5947/5947 [==============================] - 6s 1ms/step - loss: 0.2420 - accuracy: 0.8948\n",
      "Epoch 78/250\n",
      "5947/5947 [==============================] - 6s 1ms/step - loss: 0.2411 - accuracy: 0.8958\n",
      "Epoch 79/250\n"
     ]
    },
    {
     "name": "stdout",
     "output_type": "stream",
     "text": [
      "5947/5947 [==============================] - 6s 1ms/step - loss: 0.2404 - accuracy: 0.8962\n",
      "Epoch 80/250\n",
      "5947/5947 [==============================] - 7s 1ms/step - loss: 0.2412 - accuracy: 0.8947\n",
      "Epoch 81/250\n",
      "5947/5947 [==============================] - 6s 1ms/step - loss: 0.2398 - accuracy: 0.8956\n",
      "Epoch 82/250\n",
      "5947/5947 [==============================] - 6s 981us/step - loss: 0.2400 - accuracy: 0.8949\n",
      "Epoch 83/250\n",
      "5947/5947 [==============================] - 6s 1ms/step - loss: 0.2393 - accuracy: 0.8969\n",
      "Epoch 84/250\n",
      "5947/5947 [==============================] - 6s 992us/step - loss: 0.2402 - accuracy: 0.8959\n",
      "Epoch 85/250\n",
      "5947/5947 [==============================] - 6s 999us/step - loss: 0.2389 - accuracy: 0.8960\n",
      "Epoch 86/250\n",
      "5947/5947 [==============================] - 6s 992us/step - loss: 0.2399 - accuracy: 0.8958\n",
      "Epoch 87/250\n",
      "5947/5947 [==============================] - 6s 1ms/step - loss: 0.2394 - accuracy: 0.8963\n",
      "Epoch 88/250\n",
      "5947/5947 [==============================] - 6s 1ms/step - loss: 0.2392 - accuracy: 0.8964\n",
      "Epoch 89/250\n",
      "5947/5947 [==============================] - 6s 1ms/step - loss: 0.2389 - accuracy: 0.8965\n",
      "Epoch 90/250\n",
      "5947/5947 [==============================] - 6s 1ms/step - loss: 0.2392 - accuracy: 0.8966\n",
      "Epoch 91/250\n",
      "5947/5947 [==============================] - 6s 986us/step - loss: 0.2386 - accuracy: 0.8972\n",
      "Epoch 92/250\n",
      "5947/5947 [==============================] - 6s 996us/step - loss: 0.2383 - accuracy: 0.8960\n",
      "Epoch 93/250\n",
      "5947/5947 [==============================] - 6s 1ms/step - loss: 0.2383 - accuracy: 0.8971\n",
      "Epoch 94/250\n",
      "5947/5947 [==============================] - 6s 1ms/step - loss: 0.2392 - accuracy: 0.8964\n",
      "Epoch 95/250\n",
      "5947/5947 [==============================] - 6s 1ms/step - loss: 0.2385 - accuracy: 0.8965\n",
      "Epoch 96/250\n",
      "5947/5947 [==============================] - 6s 1ms/step - loss: 0.2384 - accuracy: 0.8964\n",
      "Epoch 97/250\n",
      "5947/5947 [==============================] - 6s 1ms/step - loss: 0.2384 - accuracy: 0.8963\n",
      "Epoch 98/250\n",
      "5947/5947 [==============================] - 6s 1ms/step - loss: 0.2387 - accuracy: 0.8963\n",
      "Epoch 99/250\n",
      "5947/5947 [==============================] - 6s 1ms/step - loss: 0.2385 - accuracy: 0.8966\n",
      "Epoch 100/250\n",
      "5947/5947 [==============================] - 6s 978us/step - loss: 0.2380 - accuracy: 0.8971\n",
      "Epoch 101/250\n",
      "5947/5947 [==============================] - 6s 1ms/step - loss: 0.2378 - accuracy: 0.8964\n",
      "Epoch 102/250\n",
      "5947/5947 [==============================] - 6s 989us/step - loss: 0.2386 - accuracy: 0.8971\n",
      "Epoch 103/250\n",
      "5947/5947 [==============================] - 6s 964us/step - loss: 0.2373 - accuracy: 0.8978\n",
      "Epoch 104/250\n",
      "5947/5947 [==============================] - 6s 1ms/step - loss: 0.2378 - accuracy: 0.8965\n",
      "Epoch 105/250\n",
      "5947/5947 [==============================] - 6s 951us/step - loss: 0.2380 - accuracy: 0.8965\n",
      "Epoch 106/250\n",
      "5947/5947 [==============================] - 6s 1ms/step - loss: 0.2376 - accuracy: 0.8975\n",
      "Epoch 107/250\n",
      "5947/5947 [==============================] - 6s 1ms/step - loss: 0.2373 - accuracy: 0.8969\n",
      "Epoch 108/250\n",
      "5947/5947 [==============================] - 6s 993us/step - loss: 0.2370 - accuracy: 0.8976\n",
      "Epoch 109/250\n",
      "5947/5947 [==============================] - 6s 997us/step - loss: 0.2365 - accuracy: 0.8975\n",
      "Epoch 110/250\n",
      "5947/5947 [==============================] - 6s 984us/step - loss: 0.2372 - accuracy: 0.8962\n",
      "Epoch 111/250\n",
      "5947/5947 [==============================] - 6s 974us/step - loss: 0.2367 - accuracy: 0.8975\n",
      "Epoch 112/250\n",
      "5947/5947 [==============================] - 6s 969us/step - loss: 0.2372 - accuracy: 0.8973\n",
      "Epoch 113/250\n",
      "5947/5947 [==============================] - 6s 997us/step - loss: 0.2372 - accuracy: 0.8972\n",
      "Epoch 114/250\n",
      "5947/5947 [==============================] - 6s 997us/step - loss: 0.2369 - accuracy: 0.8980\n",
      "Epoch 115/250\n",
      "5947/5947 [==============================] - 6s 1ms/step - loss: 0.2372 - accuracy: 0.8977\n",
      "Epoch 116/250\n",
      "5947/5947 [==============================] - 6s 951us/step - loss: 0.2366 - accuracy: 0.8978\n",
      "Epoch 117/250\n",
      "5947/5947 [==============================] - 6s 1ms/step - loss: 0.2372 - accuracy: 0.8972\n",
      "Epoch 118/250\n",
      "5947/5947 [==============================] - 6s 1ms/step - loss: 0.2363 - accuracy: 0.8970\n",
      "Epoch 119/250\n",
      "5947/5947 [==============================] - 6s 1ms/step - loss: 0.2364 - accuracy: 0.8976\n",
      "Epoch 120/250\n",
      "5947/5947 [==============================] - 6s 1ms/step - loss: 0.2370 - accuracy: 0.8968\n",
      "Epoch 121/250\n",
      "5947/5947 [==============================] - 6s 975us/step - loss: 0.2360 - accuracy: 0.8974\n",
      "Epoch 122/250\n",
      "5947/5947 [==============================] - 6s 979us/step - loss: 0.2363 - accuracy: 0.8974\n",
      "Epoch 123/250\n",
      "5947/5947 [==============================] - 6s 1ms/step - loss: 0.2367 - accuracy: 0.8973\n",
      "Epoch 124/250\n",
      "5947/5947 [==============================] - 6s 994us/step - loss: 0.2361 - accuracy: 0.8972\n",
      "Epoch 125/250\n",
      "5947/5947 [==============================] - 6s 1ms/step - loss: 0.2358 - accuracy: 0.8979\n",
      "Epoch 126/250\n",
      "5947/5947 [==============================] - 6s 1ms/step - loss: 0.2365 - accuracy: 0.8971\n",
      "Epoch 127/250\n",
      "5947/5947 [==============================] - 6s 1ms/step - loss: 0.2365 - accuracy: 0.8972\n",
      "Epoch 128/250\n",
      "5947/5947 [==============================] - 6s 1ms/step - loss: 0.2369 - accuracy: 0.8967\n",
      "Epoch 129/250\n",
      "5947/5947 [==============================] - 6s 1ms/step - loss: 0.2361 - accuracy: 0.8976\n",
      "Epoch 130/250\n",
      "5947/5947 [==============================] - 6s 1ms/step - loss: 0.2362 - accuracy: 0.8980\n",
      "Epoch 131/250\n",
      "5947/5947 [==============================] - 6s 1ms/step - loss: 0.2355 - accuracy: 0.8979\n",
      "Epoch 132/250\n",
      "5947/5947 [==============================] - 6s 1ms/step - loss: 0.2359 - accuracy: 0.8974\n",
      "Epoch 133/250\n",
      "5947/5947 [==============================] - 6s 1ms/step - loss: 0.2356 - accuracy: 0.8980\n",
      "Epoch 134/250\n",
      "5947/5947 [==============================] - 6s 1ms/step - loss: 0.2356 - accuracy: 0.8980\n",
      "Epoch 135/250\n",
      "5947/5947 [==============================] - 6s 1ms/step - loss: 0.2361 - accuracy: 0.8980\n",
      "Epoch 136/250\n",
      "5947/5947 [==============================] - 6s 997us/step - loss: 0.2354 - accuracy: 0.8980\n",
      "Epoch 137/250\n",
      "5947/5947 [==============================] - 6s 997us/step - loss: 0.2358 - accuracy: 0.8984\n",
      "Epoch 138/250\n",
      "5947/5947 [==============================] - 6s 982us/step - loss: 0.2347 - accuracy: 0.8999\n",
      "Epoch 139/250\n",
      "5947/5947 [==============================] - 6s 964us/step - loss: 0.2349 - accuracy: 0.8970\n",
      "Epoch 140/250\n",
      "5947/5947 [==============================] - 6s 948us/step - loss: 0.2356 - accuracy: 0.8975\n",
      "Epoch 141/250\n",
      "5947/5947 [==============================] - 6s 956us/step - loss: 0.2355 - accuracy: 0.8983\n",
      "Epoch 142/250\n",
      "5947/5947 [==============================] - 6s 991us/step - loss: 0.2350 - accuracy: 0.8985\n",
      "Epoch 143/250\n",
      "5947/5947 [==============================] - 6s 961us/step - loss: 0.2349 - accuracy: 0.8980\n",
      "Epoch 144/250\n",
      "5947/5947 [==============================] - 6s 949us/step - loss: 0.2351 - accuracy: 0.8988\n",
      "Epoch 145/250\n",
      "5947/5947 [==============================] - 6s 938us/step - loss: 0.2349 - accuracy: 0.8978\n",
      "Epoch 146/250\n",
      "5947/5947 [==============================] - 6s 959us/step - loss: 0.2348 - accuracy: 0.8991\n",
      "Epoch 147/250\n",
      "5947/5947 [==============================] - 6s 949us/step - loss: 0.2348 - accuracy: 0.8975\n",
      "Epoch 148/250\n",
      "5947/5947 [==============================] - 6s 974us/step - loss: 0.2347 - accuracy: 0.8982\n",
      "Epoch 149/250\n",
      "5947/5947 [==============================] - 6s 964us/step - loss: 0.2350 - accuracy: 0.8979\n",
      "Epoch 150/250\n",
      "5947/5947 [==============================] - 6s 976us/step - loss: 0.2342 - accuracy: 0.8978\n",
      "Epoch 151/250\n",
      "5947/5947 [==============================] - 6s 956us/step - loss: 0.2339 - accuracy: 0.8986\n",
      "Epoch 152/250\n",
      "5947/5947 [==============================] - 6s 975us/step - loss: 0.2348 - accuracy: 0.8979\n",
      "Epoch 153/250\n",
      "5947/5947 [==============================] - 6s 978us/step - loss: 0.2341 - accuracy: 0.8987\n",
      "Epoch 154/250\n",
      "5947/5947 [==============================] - 6s 964us/step - loss: 0.2333 - accuracy: 0.8992\n",
      "Epoch 155/250\n",
      "5947/5947 [==============================] - 6s 1ms/step - loss: 0.2347 - accuracy: 0.8992\n",
      "Epoch 156/250\n"
     ]
    },
    {
     "name": "stdout",
     "output_type": "stream",
     "text": [
      "5947/5947 [==============================] - 6s 986us/step - loss: 0.2341 - accuracy: 0.8975\n",
      "Epoch 157/250\n",
      "5947/5947 [==============================] - 6s 1ms/step - loss: 0.2344 - accuracy: 0.8987\n",
      "Epoch 158/250\n",
      "5947/5947 [==============================] - 6s 1ms/step - loss: 0.2335 - accuracy: 0.8986\n",
      "Epoch 159/250\n",
      "5947/5947 [==============================] - 6s 1ms/step - loss: 0.2342 - accuracy: 0.8984\n",
      "Epoch 160/250\n",
      "5947/5947 [==============================] - 6s 981us/step - loss: 0.2337 - accuracy: 0.8984\n",
      "Epoch 161/250\n",
      "5947/5947 [==============================] - 6s 986us/step - loss: 0.2333 - accuracy: 0.8979\n",
      "Epoch 162/250\n",
      "5947/5947 [==============================] - 6s 994us/step - loss: 0.2339 - accuracy: 0.8987\n",
      "Epoch 163/250\n",
      "5947/5947 [==============================] - 6s 997us/step - loss: 0.2337 - accuracy: 0.8982\n",
      "Epoch 164/250\n",
      "5947/5947 [==============================] - 6s 1ms/step - loss: 0.2345 - accuracy: 0.8982\n",
      "Epoch 165/250\n",
      "5947/5947 [==============================] - 6s 1ms/step - loss: 0.2330 - accuracy: 0.9002\n",
      "Epoch 166/250\n",
      "5947/5947 [==============================] - 6s 1ms/step - loss: 0.2339 - accuracy: 0.8987\n",
      "Epoch 167/250\n",
      "5947/5947 [==============================] - 6s 1ms/step - loss: 0.2327 - accuracy: 0.8987\n",
      "Epoch 168/250\n",
      "5947/5947 [==============================] - 6s 1ms/step - loss: 0.2335 - accuracy: 0.8992\n",
      "Epoch 169/250\n",
      "5947/5947 [==============================] - 6s 1ms/step - loss: 0.2334 - accuracy: 0.8990\n",
      "Epoch 170/250\n",
      "5947/5947 [==============================] - 6s 997us/step - loss: 0.2325 - accuracy: 0.8994\n",
      "Epoch 171/250\n",
      "5947/5947 [==============================] - 6s 988us/step - loss: 0.2340 - accuracy: 0.8989\n",
      "Epoch 172/250\n",
      "5947/5947 [==============================] - 6s 1ms/step - loss: 0.2335 - accuracy: 0.8995\n",
      "Epoch 173/250\n",
      "5947/5947 [==============================] - 6s 1ms/step - loss: 0.2335 - accuracy: 0.8985\n",
      "Epoch 174/250\n",
      "5947/5947 [==============================] - 6s 1000us/step - loss: 0.2329 - accuracy: 0.8997\n",
      "Epoch 175/250\n",
      "5947/5947 [==============================] - 6s 997us/step - loss: 0.2325 - accuracy: 0.8994\n",
      "Epoch 176/250\n",
      "5947/5947 [==============================] - 6s 1ms/step - loss: 0.2324 - accuracy: 0.8991\n",
      "Epoch 177/250\n",
      "5947/5947 [==============================] - 6s 1ms/step - loss: 0.2335 - accuracy: 0.8996\n",
      "Epoch 178/250\n",
      "5947/5947 [==============================] - 6s 997us/step - loss: 0.2326 - accuracy: 0.8987\n",
      "Epoch 179/250\n",
      "5947/5947 [==============================] - 6s 1ms/step - loss: 0.2330 - accuracy: 0.8990\n",
      "Epoch 180/250\n",
      "5947/5947 [==============================] - 6s 1ms/step - loss: 0.2330 - accuracy: 0.8989\n",
      "Epoch 181/250\n",
      "5947/5947 [==============================] - 6s 987us/step - loss: 0.2323 - accuracy: 0.8997\n",
      "Epoch 182/250\n",
      "5947/5947 [==============================] - 6s 1ms/step - loss: 0.2319 - accuracy: 0.8992\n",
      "Epoch 183/250\n",
      "5947/5947 [==============================] - 6s 963us/step - loss: 0.2323 - accuracy: 0.8992\n",
      "Epoch 184/250\n",
      "5947/5947 [==============================] - 6s 954us/step - loss: 0.2325 - accuracy: 0.8991\n",
      "Epoch 185/250\n",
      "5947/5947 [==============================] - 6s 1ms/step - loss: 0.2322 - accuracy: 0.9003\n",
      "Epoch 186/250\n",
      "5947/5947 [==============================] - 6s 1ms/step - loss: 0.2322 - accuracy: 0.8994\n",
      "Epoch 187/250\n",
      "5947/5947 [==============================] - 6s 968us/step - loss: 0.2321 - accuracy: 0.8996\n",
      "Epoch 188/250\n",
      "5947/5947 [==============================] - 6s 997us/step - loss: 0.2323 - accuracy: 0.8998\n",
      "Epoch 189/250\n",
      "5947/5947 [==============================] - 6s 1ms/step - loss: 0.2324 - accuracy: 0.8992\n",
      "Epoch 190/250\n",
      "5947/5947 [==============================] - 6s 1ms/step - loss: 0.2318 - accuracy: 0.8998\n",
      "Epoch 191/250\n",
      "5947/5947 [==============================] - 6s 1ms/step - loss: 0.2325 - accuracy: 0.8997\n",
      "Epoch 192/250\n",
      "5947/5947 [==============================] - 6s 1000us/step - loss: 0.2324 - accuracy: 0.8991\n",
      "Epoch 193/250\n",
      "5947/5947 [==============================] - 6s 1ms/step - loss: 0.2321 - accuracy: 0.8990\n",
      "Epoch 194/250\n",
      "5947/5947 [==============================] - 6s 1ms/step - loss: 0.2318 - accuracy: 0.8997\n",
      "Epoch 195/250\n",
      "5947/5947 [==============================] - 6s 1ms/step - loss: 0.2314 - accuracy: 0.8992\n",
      "Epoch 196/250\n",
      "5947/5947 [==============================] - 6s 1ms/step - loss: 0.2315 - accuracy: 0.9001\n",
      "Epoch 197/250\n",
      "5947/5947 [==============================] - 6s 976us/step - loss: 0.2318 - accuracy: 0.8998\n",
      "Epoch 198/250\n",
      "5947/5947 [==============================] - 6s 1ms/step - loss: 0.2304 - accuracy: 0.9003\n",
      "Epoch 199/250\n",
      "5947/5947 [==============================] - 6s 1ms/step - loss: 0.2311 - accuracy: 0.8992\n",
      "Epoch 200/250\n",
      "5947/5947 [==============================] - 6s 998us/step - loss: 0.2313 - accuracy: 0.9001\n",
      "Epoch 201/250\n",
      "5947/5947 [==============================] - 6s 1ms/step - loss: 0.2315 - accuracy: 0.8995\n",
      "Epoch 202/250\n",
      "5947/5947 [==============================] - 6s 1ms/step - loss: 0.2320 - accuracy: 0.8995\n",
      "Epoch 203/250\n",
      "5947/5947 [==============================] - 6s 1ms/step - loss: 0.2306 - accuracy: 0.9005\n",
      "Epoch 204/250\n",
      "5947/5947 [==============================] - 6s 1ms/step - loss: 0.2312 - accuracy: 0.9002\n",
      "Epoch 205/250\n",
      "5947/5947 [==============================] - 6s 989us/step - loss: 0.2309 - accuracy: 0.9002\n",
      "Epoch 206/250\n",
      "5947/5947 [==============================] - 6s 1ms/step - loss: 0.2311 - accuracy: 0.8994\n",
      "Epoch 207/250\n",
      "5947/5947 [==============================] - 6s 970us/step - loss: 0.2317 - accuracy: 0.8994\n",
      "Epoch 208/250\n",
      "5947/5947 [==============================] - 6s 985us/step - loss: 0.2307 - accuracy: 0.9003\n",
      "Epoch 209/250\n",
      "5947/5947 [==============================] - 6s 1ms/step - loss: 0.2307 - accuracy: 0.9005\n",
      "Epoch 210/250\n",
      "5947/5947 [==============================] - 6s 1ms/step - loss: 0.2303 - accuracy: 0.9009\n",
      "Epoch 211/250\n",
      "5947/5947 [==============================] - 6s 984us/step - loss: 0.2312 - accuracy: 0.8995\n",
      "Epoch 212/250\n",
      "5947/5947 [==============================] - 6s 1ms/step - loss: 0.2304 - accuracy: 0.9010\n",
      "Epoch 213/250\n",
      "5947/5947 [==============================] - 6s 1ms/step - loss: 0.2307 - accuracy: 0.9000\n",
      "Epoch 214/250\n",
      "5947/5947 [==============================] - 6s 1ms/step - loss: 0.2302 - accuracy: 0.9003\n",
      "Epoch 215/250\n",
      "5947/5947 [==============================] - 6s 1ms/step - loss: 0.2304 - accuracy: 0.9008\n",
      "Epoch 216/250\n",
      "5947/5947 [==============================] - 6s 1ms/step - loss: 0.2306 - accuracy: 0.9002\n",
      "Epoch 217/250\n",
      "5947/5947 [==============================] - 6s 1ms/step - loss: 0.2308 - accuracy: 0.9000\n",
      "Epoch 218/250\n",
      "5947/5947 [==============================] - 6s 1ms/step - loss: 0.2308 - accuracy: 0.8997\n",
      "Epoch 219/250\n",
      "5947/5947 [==============================] - 6s 1ms/step - loss: 0.2306 - accuracy: 0.8995\n",
      "Epoch 220/250\n",
      "5947/5947 [==============================] - 6s 1ms/step - loss: 0.2310 - accuracy: 0.9004\n",
      "Epoch 221/250\n",
      "5947/5947 [==============================] - 6s 1ms/step - loss: 0.2306 - accuracy: 0.9006\n",
      "Epoch 222/250\n",
      "5947/5947 [==============================] - 6s 1ms/step - loss: 0.2306 - accuracy: 0.9005\n",
      "Epoch 223/250\n",
      "5947/5947 [==============================] - 6s 1ms/step - loss: 0.2300 - accuracy: 0.9001\n",
      "Epoch 224/250\n",
      "5947/5947 [==============================] - 6s 1ms/step - loss: 0.2301 - accuracy: 0.9004\n",
      "Epoch 225/250\n",
      "5947/5947 [==============================] - 6s 1ms/step - loss: 0.2302 - accuracy: 0.9005\n",
      "Epoch 226/250\n",
      "5947/5947 [==============================] - 6s 1ms/step - loss: 0.2301 - accuracy: 0.9005\n",
      "Epoch 227/250\n",
      "5947/5947 [==============================] - 6s 1ms/step - loss: 0.2288 - accuracy: 0.9008\n",
      "Epoch 228/250\n",
      "5947/5947 [==============================] - 6s 1ms/step - loss: 0.2302 - accuracy: 0.8999\n",
      "Epoch 229/250\n",
      "5947/5947 [==============================] - 6s 979us/step - loss: 0.2300 - accuracy: 0.8995\n",
      "Epoch 230/250\n",
      "5947/5947 [==============================] - 6s 995us/step - loss: 0.2289 - accuracy: 0.9012\n",
      "Epoch 231/250\n",
      "5947/5947 [==============================] - 6s 976us/step - loss: 0.2300 - accuracy: 0.9009\n",
      "Epoch 232/250\n",
      "5947/5947 [==============================] - 6s 1ms/step - loss: 0.2292 - accuracy: 0.9006\n",
      "Epoch 233/250\n"
     ]
    },
    {
     "name": "stdout",
     "output_type": "stream",
     "text": [
      "5947/5947 [==============================] - 6s 972us/step - loss: 0.2304 - accuracy: 0.9008\n",
      "Epoch 234/250\n",
      "5947/5947 [==============================] - 6s 979us/step - loss: 0.2295 - accuracy: 0.9006\n",
      "Epoch 235/250\n",
      "5947/5947 [==============================] - 6s 996us/step - loss: 0.2290 - accuracy: 0.9011\n",
      "Epoch 236/250\n",
      "5947/5947 [==============================] - 6s 948us/step - loss: 0.2295 - accuracy: 0.9008\n",
      "Epoch 237/250\n",
      "5947/5947 [==============================] - 6s 962us/step - loss: 0.2306 - accuracy: 0.8996\n",
      "Epoch 238/250\n",
      "5947/5947 [==============================] - 6s 1ms/step - loss: 0.2286 - accuracy: 0.9012\n",
      "Epoch 239/250\n",
      "5947/5947 [==============================] - 6s 981us/step - loss: 0.2291 - accuracy: 0.9008\n",
      "Epoch 240/250\n",
      "5947/5947 [==============================] - 6s 1ms/step - loss: 0.2303 - accuracy: 0.9009\n",
      "Epoch 241/250\n",
      "5947/5947 [==============================] - 6s 1ms/step - loss: 0.2294 - accuracy: 0.9007\n",
      "Epoch 242/250\n",
      "5947/5947 [==============================] - 6s 949us/step - loss: 0.2290 - accuracy: 0.9008\n",
      "Epoch 243/250\n",
      "5947/5947 [==============================] - 6s 990us/step - loss: 0.2291 - accuracy: 0.9009\n",
      "Epoch 244/250\n",
      "5947/5947 [==============================] - 6s 983us/step - loss: 0.2288 - accuracy: 0.9012\n",
      "Epoch 245/250\n",
      "5947/5947 [==============================] - 6s 1ms/step - loss: 0.2289 - accuracy: 0.9003\n",
      "Epoch 246/250\n",
      "5947/5947 [==============================] - 9s 1ms/step - loss: 0.2286 - accuracy: 0.9007\n",
      "Epoch 247/250\n",
      "5947/5947 [==============================] - 6s 1ms/step - loss: 0.2294 - accuracy: 0.9001\n",
      "Epoch 248/250\n",
      "5947/5947 [==============================] - 6s 1ms/step - loss: 0.2291 - accuracy: 0.9001\n",
      "Epoch 249/250\n",
      "5947/5947 [==============================] - 6s 1ms/step - loss: 0.2289 - accuracy: 0.9012\n",
      "Epoch 250/250\n",
      "5947/5947 [==============================] - 6s 990us/step - loss: 0.2283 - accuracy: 0.9011\n"
     ]
    },
    {
     "data": {
      "text/plain": [
       "<keras.callbacks.History at 0x1e5a9408310>"
      ]
     },
     "execution_count": 113,
     "metadata": {},
     "output_type": "execute_result"
    }
   ],
   "source": [
    "deep_model.compile(loss = 'binary_crossentropy', optimizer ='adam', metrics =['accuracy'])\n",
    "deep_model.fit(X_train, y_train, epochs= 250, batch_size=16)"
   ]
  },
  {
   "cell_type": "code",
   "execution_count": 125,
   "metadata": {},
   "outputs": [
    {
     "name": "stdout",
     "output_type": "stream",
     "text": [
      "Train loss 0.22510933876037598 Train accuracy 0.9026074409484863\n"
     ]
    }
   ],
   "source": [
    "train_score = deep_model.evaluate(X_train, y_train, verbose= 0)\n",
    "print(\"Train loss\", train_score[0], 'Train accuracy', train_score[1])"
   ]
  },
  {
   "cell_type": "code",
   "execution_count": 126,
   "metadata": {},
   "outputs": [
    {
     "name": "stdout",
     "output_type": "stream",
     "text": [
      "992/992 [==============================] - 1s 1ms/step - loss: 0.2368 - accuracy: 0.8992\n",
      "Test loss 0.23683688044548035 Test accuracy 0.8992370367050171\n",
      "None\n"
     ]
    }
   ],
   "source": [
    "test_score = deep_model.evaluate(X_test, y_test)\n",
    "print(print(\"Test loss\", test_score[0], 'Test accuracy', test_score[1]))"
   ]
  },
  {
   "cell_type": "code",
   "execution_count": null,
   "metadata": {},
   "outputs": [],
   "source": []
  }
 ],
 "metadata": {
  "kernelspec": {
   "display_name": "Python 3",
   "language": "python",
   "name": "python3"
  },
  "language_info": {
   "codemirror_mode": {
    "name": "ipython",
    "version": 3
   },
   "file_extension": ".py",
   "mimetype": "text/x-python",
   "name": "python",
   "nbconvert_exporter": "python",
   "pygments_lexer": "ipython3",
   "version": "3.8.5"
  }
 },
 "nbformat": 4,
 "nbformat_minor": 4
}
